{
 "cells": [
  {
   "cell_type": "markdown",
   "metadata": {},
   "source": [
    "# Machine learning: prediction\n",
    "\n",
    "Machine learning-trained algorithms can be used to predict the identity of sounds in recordings. For instance, an algorithm trained how to detect the sound of a Wood Thrush can be used to figure out where Wood Thrushes vocalize in a set of autonomous recordings. \n",
    "\n",
    "The Kitzes Lab, the developers of OpenSoundscape, pre-trained a series of [baseline machine learning models](https://pitt.box.com/s/a6jeamnew098vp5a9a7m1h9j5rce6t6y) that can be used to predict the presence of [506 species of common North American birds](https://pitt.app.box.com/s/d0snd1tyilscksbxc36q2slz6s4aa2ag). These are our \"beta\" models and are for demonstration purposes only, not for research use. We hope to make our more accurate models available soon. \n",
    "\n",
    "If you are interested in using these machine learning models for research, please contact us at the [Kitzes Lab](https://kitzeslab.org).\n",
    "\n",
    "This tutorial downloads an example model and demonstrates how to use it to predict the identity of birds in recordings. To download the tutorial as a Jupyter Notebook and run it on your own computer, click the \"Edit on GitHub\" button at the top right of the tutorial. You will have to [install OpenSoundscape](installation.html#installation) to use the tutorial."
   ]
  },
  {
   "cell_type": "markdown",
   "metadata": {},
   "source": [
    "### Import modules\n",
    "Import the following modules to run a pre-trained machine learning learning classifier. First, from OpenSoundscape we will need two classes (`Audio` and `SingleTargetAudioDataset`) and three functions (`run_command`, `lowercase_annotations`, and `predict`)."
   ]
  },
  {
   "cell_type": "code",
   "execution_count": 1,
   "metadata": {},
   "outputs": [],
   "source": [
    "from opensoundscape.audio import Audio\n",
    "from opensoundscape.datasets import SingleTargetAudioDataset\n",
    "from opensoundscape.helpers import run_command\n",
    "from opensoundscape.raven import lowercase_annotations\n",
    "from opensoundscape.torch.predict import predict"
   ]
  },
  {
   "cell_type": "markdown",
   "metadata": {},
   "source": [
    "Import the following machine learning-related modules. OpenSoundscape uses PyTorch to do machine learning."
   ]
  },
  {
   "cell_type": "code",
   "execution_count": 2,
   "metadata": {},
   "outputs": [],
   "source": [
    "import torch\n",
    "import torch.nn\n",
    "import torchvision.models\n",
    "import torch.utils.data\n",
    "import torchvision.transforms"
   ]
  },
  {
   "cell_type": "markdown",
   "metadata": {},
   "source": [
    "Lastly, use a few miscellaneous functions."
   ]
  },
  {
   "cell_type": "code",
   "execution_count": 3,
   "metadata": {},
   "outputs": [],
   "source": [
    "import yaml\n",
    "import os.path\n",
    "import pandas as pd\n",
    "from pathlib import Path\n",
    "from math import floor"
   ]
  },
  {
   "cell_type": "markdown",
   "metadata": {},
   "source": [
    "## Prepare model\n",
    "\n",
    "To use the model, it must be downloaded onto your computer and loaded with the same specifications it was created with."
   ]
  },
  {
   "cell_type": "markdown",
   "metadata": {},
   "source": [
    "### Download model\n",
    "Download the example model for Wood Thrush, *Hylocichla mustelina*. First, create a folder called `\"prediction_example\"` to store the model and its data in."
   ]
  },
  {
   "cell_type": "code",
   "execution_count": 4,
   "metadata": {},
   "outputs": [],
   "source": [
    "folder_name = \"prediction_example\"\n",
    "folder_path = Path(folder_name)\n",
    "if not folder_path.exists(): folder_path.mkdir()"
   ]
  },
  {
   "cell_type": "markdown",
   "metadata": {},
   "source": [
    "Next, download the model from the Box storage site using the following lines. If you prefer, you can also download the model off of [this](https://pitt.app.box.com/s/dslgslmag7y8ojqxv28mwhbnt7irpgeo) webpage. Make sure to move it into the `\"prediction_example\"` folder and ensure that it is named `\"hylocichla-mustelina-epoch-4.model\"`."
   ]
  },
  {
   "cell_type": "code",
   "execution_count": 5,
   "metadata": {},
   "outputs": [],
   "source": [
    "def download_from_box(link, name):\n",
    "    run_command(f\"curl -L {link} -o ./{name}\")"
   ]
  },
  {
   "cell_type": "code",
   "execution_count": 6,
   "metadata": {},
   "outputs": [],
   "source": [
    "model_filename = folder_path.joinpath(\"hylocichla-mustelina-epoch-4.model\")\n",
    "download_from_box(\n",
    "    link = \"https://pitt.box.com/shared/static/dslgslmag7y8ojqxv28mwhbnt7irpgeo.model\",\n",
    "    name = model_filename\n",
    ")"
   ]
  },
  {
   "cell_type": "markdown",
   "metadata": {},
   "source": [
    "Make sure that the model was downloaded correctly."
   ]
  },
  {
   "cell_type": "code",
   "execution_count": 7,
   "metadata": {},
   "outputs": [],
   "source": [
    "assert(model_filename.exists())"
   ]
  },
  {
   "cell_type": "markdown",
   "metadata": {},
   "source": [
    "### Load model\n",
    "At its core, a machine learning model consists of two things: its architecture and its weights. \n",
    "\n",
    "The architecture is the complex structure of the model, which in this case, is a convolutional neural network. Convolutional neural networks are a particular set of algorithms especially suited to extracting and interpreting features from images, such as combinations of lines, dots, and edges. In this case, we use a `resnet18` convolutional neural network. After feature extraction, the convolutional neural network's features are passed to a classifier. The classifier decides how to weight each feature in predicting the final class identity. The model was trained with a `Linear` classifier.\n",
    "\n",
    "Create the architecture of the model. First, designate the model as a `resnet18` CNN."
   ]
  },
  {
   "cell_type": "code",
   "execution_count": 8,
   "metadata": {},
   "outputs": [],
   "source": [
    "model = torchvision.models.resnet18(pretrained=False)"
   ]
  },
  {
   "cell_type": "markdown",
   "metadata": {},
   "source": [
    "Then, add the `fc` layers. \"FC\" stands for \"fully connected\". To set up the proper architecture, we need to specify the correct number of input features, output features, and classifier type. \n",
    "\n",
    "The number of input features to the FC is equal to the number of features extracted from the convolutional neural network and passed to the the FC layer: `model.fc.in_features`"
   ]
  },
  {
   "cell_type": "code",
   "execution_count": 9,
   "metadata": {},
   "outputs": [],
   "source": [
    "num_cnn_features = model.fc.in_features"
   ]
  },
  {
   "cell_type": "markdown",
   "metadata": {},
   "source": [
    "The models were trained to predict two classes (species present and species absent), so the number of output features of the FC layer is 2."
   ]
  },
  {
   "cell_type": "code",
   "execution_count": 10,
   "metadata": {},
   "outputs": [],
   "source": [
    "num_classes = 2"
   ]
  },
  {
   "cell_type": "markdown",
   "metadata": {},
   "source": [
    "Finally, the classifier type is a `torch.nn.Linear` classifier."
   ]
  },
  {
   "cell_type": "code",
   "execution_count": 11,
   "metadata": {},
   "outputs": [],
   "source": [
    "model.fc = torch.nn.Linear(\n",
    "    in_features = num_cnn_features,\n",
    "    out_features = num_classes)"
   ]
  },
  {
   "cell_type": "markdown",
   "metadata": {},
   "source": [
    "The weights of the model are distinguished from its architecture because, while the architecture is decided by humans, the weights of the architecture are learned during the machine learning process. When downloading the machine learning model, you downloaded the weights. \n",
    "\n",
    "First, use `torch.load` to get the model weights from the filename."
   ]
  },
  {
   "cell_type": "code",
   "execution_count": 12,
   "metadata": {},
   "outputs": [],
   "source": [
    "weights = torch.load(model_filename)"
   ]
  },
  {
   "cell_type": "markdown",
   "metadata": {},
   "source": [
    "Now, load the weights into the architecture we have created. After this the model is almost ready to use."
   ]
  },
  {
   "cell_type": "code",
   "execution_count": 13,
   "metadata": {},
   "outputs": [
    {
     "data": {
      "text/plain": [
       "<All keys matched successfully>"
      ]
     },
     "execution_count": 13,
     "metadata": {},
     "output_type": "execute_result"
    }
   ],
   "source": [
    "model.load_state_dict(weights)"
   ]
  },
  {
   "cell_type": "markdown",
   "metadata": {},
   "source": [
    "## Prepare prediction files\n",
    "\n",
    "To actually use the model, we need to download and prepare a set of recordings. The model was trained to make predictions on spectrograms made from 5 second-long recordings, so we will have to split the recordings up and transform them into spectrograms."
   ]
  },
  {
   "cell_type": "markdown",
   "metadata": {},
   "source": [
    "### Download data\n",
    "As example data, we have provided a 1 minute-long soundscape which contains Wood Thrush vocalizations. \n",
    "\n",
    "The following code downloads this audio file into the `\"prediction_example\"` folder created above. If you prefer, you can also download this file at [this link](https://pitt.box.com/shared/z73eked7quh1t2pp93axzrrpq6wwydx0). Make sure to move it into the `\"prediction_example\"` folder and ensure that it is named `\"1min.wav\"`."
   ]
  },
  {
   "cell_type": "code",
   "execution_count": 14,
   "metadata": {},
   "outputs": [],
   "source": [
    "data_filename = folder_path.joinpath(\"1min.wav\")\n",
    "download_from_box(\n",
    "    link = \"https://pitt.box.com/shared/static/z73eked7quh1t2pp93axzrrpq6wwydx0.wav\",\n",
    "    name = data_filename\n",
    ")"
   ]
  },
  {
   "cell_type": "markdown",
   "metadata": {},
   "source": [
    "### Split data\n",
    "The example soundscape must be split up into soundscapes of the same size as the ones the model was trained on. In this case, the soundscapes should be 5s long.\n",
    "\n",
    "First, create a directory in which to save split files."
   ]
  },
  {
   "cell_type": "code",
   "execution_count": 15,
   "metadata": {},
   "outputs": [],
   "source": [
    "split_directory = folder_path.joinpath(\"split_files\")\n",
    "if not split_directory.exists(): split_directory.mkdir()"
   ]
  },
  {
   "cell_type": "markdown",
   "metadata": {},
   "source": [
    "Next, load the 1-minute long file as an `Audio` object."
   ]
  },
  {
   "cell_type": "code",
   "execution_count": 16,
   "metadata": {},
   "outputs": [],
   "source": [
    "base_file = Audio.from_file(data_filename)"
   ]
  },
  {
   "cell_type": "markdown",
   "metadata": {},
   "source": [
    "Every split file will be saved with a prefix and the start and end times of the split with respect to the original file. In this case, let's make the prefix equal to the filename of the base file, without the extension (its stem):"
   ]
  },
  {
   "cell_type": "code",
   "execution_count": 17,
   "metadata": {},
   "outputs": [
    {
     "data": {
      "text/plain": [
       "'1min'"
      ]
     },
     "execution_count": 17,
     "metadata": {},
     "output_type": "execute_result"
    }
   ],
   "source": [
    "split_prefix = data_filename.stem\n",
    "split_prefix"
   ]
  },
  {
   "cell_type": "markdown",
   "metadata": {},
   "source": [
    "`Audio` objects have the method `split_and_save()` which allows you to split the recording in the audio object into segments of the specified length. Here, we split the clips into a 5s length, specify the directory they should be saved in (the `split_directory` just created) and specify the prefix of the file."
   ]
  },
  {
   "cell_type": "code",
   "execution_count": 18,
   "metadata": {},
   "outputs": [],
   "source": [
    "split_files = base_file.split_and_save(\n",
    "    clip_length=5,\n",
    "    destination=split_directory,\n",
    "    name=split_prefix\n",
    ")"
   ]
  },
  {
   "cell_type": "markdown",
   "metadata": {},
   "source": [
    "The output of this function, `split_files`, is a dataframe which identifies the filename of each split and its start and end times:"
   ]
  },
  {
   "cell_type": "code",
   "execution_count": 19,
   "metadata": {},
   "outputs": [
    {
     "data": {
      "text/html": [
       "<div>\n",
       "<style scoped>\n",
       "    .dataframe tbody tr th:only-of-type {\n",
       "        vertical-align: middle;\n",
       "    }\n",
       "\n",
       "    .dataframe tbody tr th {\n",
       "        vertical-align: top;\n",
       "    }\n",
       "\n",
       "    .dataframe thead th {\n",
       "        text-align: right;\n",
       "    }\n",
       "</style>\n",
       "<table border=\"1\" class=\"dataframe\">\n",
       "  <thead>\n",
       "    <tr style=\"text-align: right;\">\n",
       "      <th></th>\n",
       "      <th>start_time</th>\n",
       "      <th>end_time</th>\n",
       "    </tr>\n",
       "    <tr>\n",
       "      <th>file</th>\n",
       "      <th></th>\n",
       "      <th></th>\n",
       "    </tr>\n",
       "  </thead>\n",
       "  <tbody>\n",
       "    <tr>\n",
       "      <th>1min_0s-5s.wav</th>\n",
       "      <td>0</td>\n",
       "      <td>5</td>\n",
       "    </tr>\n",
       "    <tr>\n",
       "      <th>1min_5s-10s.wav</th>\n",
       "      <td>5</td>\n",
       "      <td>10</td>\n",
       "    </tr>\n",
       "    <tr>\n",
       "      <th>1min_10s-15s.wav</th>\n",
       "      <td>10</td>\n",
       "      <td>15</td>\n",
       "    </tr>\n",
       "    <tr>\n",
       "      <th>1min_15s-20s.wav</th>\n",
       "      <td>15</td>\n",
       "      <td>20</td>\n",
       "    </tr>\n",
       "    <tr>\n",
       "      <th>1min_20s-25s.wav</th>\n",
       "      <td>20</td>\n",
       "      <td>25</td>\n",
       "    </tr>\n",
       "    <tr>\n",
       "      <th>1min_25s-30s.wav</th>\n",
       "      <td>25</td>\n",
       "      <td>30</td>\n",
       "    </tr>\n",
       "    <tr>\n",
       "      <th>1min_30s-35s.wav</th>\n",
       "      <td>30</td>\n",
       "      <td>35</td>\n",
       "    </tr>\n",
       "    <tr>\n",
       "      <th>1min_35s-40s.wav</th>\n",
       "      <td>35</td>\n",
       "      <td>40</td>\n",
       "    </tr>\n",
       "    <tr>\n",
       "      <th>1min_40s-45s.wav</th>\n",
       "      <td>40</td>\n",
       "      <td>45</td>\n",
       "    </tr>\n",
       "    <tr>\n",
       "      <th>1min_45s-50s.wav</th>\n",
       "      <td>45</td>\n",
       "      <td>50</td>\n",
       "    </tr>\n",
       "    <tr>\n",
       "      <th>1min_50s-55s.wav</th>\n",
       "      <td>50</td>\n",
       "      <td>55</td>\n",
       "    </tr>\n",
       "    <tr>\n",
       "      <th>1min_55s-60s.wav</th>\n",
       "      <td>55</td>\n",
       "      <td>60</td>\n",
       "    </tr>\n",
       "  </tbody>\n",
       "</table>\n",
       "</div>"
      ],
      "text/plain": [
       "                 start_time end_time\n",
       "file                                \n",
       "1min_0s-5s.wav            0        5\n",
       "1min_5s-10s.wav           5       10\n",
       "1min_10s-15s.wav         10       15\n",
       "1min_15s-20s.wav         15       20\n",
       "1min_20s-25s.wav         20       25\n",
       "1min_25s-30s.wav         25       30\n",
       "1min_30s-35s.wav         30       35\n",
       "1min_35s-40s.wav         35       40\n",
       "1min_40s-45s.wav         40       45\n",
       "1min_45s-50s.wav         45       50\n",
       "1min_50s-55s.wav         50       55\n",
       "1min_55s-60s.wav         55       60"
      ]
     },
     "execution_count": 19,
     "metadata": {},
     "output_type": "execute_result"
    }
   ],
   "source": [
    "split_files"
   ]
  },
  {
   "cell_type": "markdown",
   "metadata": {},
   "source": [
    "Prepend the \"file\" index with the directory in which the files are found so that the computer can refer to the files:"
   ]
  },
  {
   "cell_type": "code",
   "execution_count": 20,
   "metadata": {},
   "outputs": [],
   "source": [
    "split_files['file_path'] = [split_directory.joinpath(split_file) for split_file in split_files.index]"
   ]
  },
  {
   "cell_type": "code",
   "execution_count": 21,
   "metadata": {},
   "outputs": [
    {
     "data": {
      "text/html": [
       "<div>\n",
       "<style scoped>\n",
       "    .dataframe tbody tr th:only-of-type {\n",
       "        vertical-align: middle;\n",
       "    }\n",
       "\n",
       "    .dataframe tbody tr th {\n",
       "        vertical-align: top;\n",
       "    }\n",
       "\n",
       "    .dataframe thead th {\n",
       "        text-align: right;\n",
       "    }\n",
       "</style>\n",
       "<table border=\"1\" class=\"dataframe\">\n",
       "  <thead>\n",
       "    <tr style=\"text-align: right;\">\n",
       "      <th></th>\n",
       "      <th>start_time</th>\n",
       "      <th>end_time</th>\n",
       "      <th>file_path</th>\n",
       "    </tr>\n",
       "    <tr>\n",
       "      <th>file</th>\n",
       "      <th></th>\n",
       "      <th></th>\n",
       "      <th></th>\n",
       "    </tr>\n",
       "  </thead>\n",
       "  <tbody>\n",
       "    <tr>\n",
       "      <th>1min_0s-5s.wav</th>\n",
       "      <td>0</td>\n",
       "      <td>5</td>\n",
       "      <td>prediction_example/split_files/1min_0s-5s.wav</td>\n",
       "    </tr>\n",
       "    <tr>\n",
       "      <th>1min_5s-10s.wav</th>\n",
       "      <td>5</td>\n",
       "      <td>10</td>\n",
       "      <td>prediction_example/split_files/1min_5s-10s.wav</td>\n",
       "    </tr>\n",
       "    <tr>\n",
       "      <th>1min_10s-15s.wav</th>\n",
       "      <td>10</td>\n",
       "      <td>15</td>\n",
       "      <td>prediction_example/split_files/1min_10s-15s.wav</td>\n",
       "    </tr>\n",
       "    <tr>\n",
       "      <th>1min_15s-20s.wav</th>\n",
       "      <td>15</td>\n",
       "      <td>20</td>\n",
       "      <td>prediction_example/split_files/1min_15s-20s.wav</td>\n",
       "    </tr>\n",
       "    <tr>\n",
       "      <th>1min_20s-25s.wav</th>\n",
       "      <td>20</td>\n",
       "      <td>25</td>\n",
       "      <td>prediction_example/split_files/1min_20s-25s.wav</td>\n",
       "    </tr>\n",
       "  </tbody>\n",
       "</table>\n",
       "</div>"
      ],
      "text/plain": [
       "                 start_time end_time  \\\n",
       "file                                   \n",
       "1min_0s-5s.wav            0        5   \n",
       "1min_5s-10s.wav           5       10   \n",
       "1min_10s-15s.wav         10       15   \n",
       "1min_15s-20s.wav         15       20   \n",
       "1min_20s-25s.wav         20       25   \n",
       "\n",
       "                                                        file_path  \n",
       "file                                                               \n",
       "1min_0s-5s.wav      prediction_example/split_files/1min_0s-5s.wav  \n",
       "1min_5s-10s.wav    prediction_example/split_files/1min_5s-10s.wav  \n",
       "1min_10s-15s.wav  prediction_example/split_files/1min_10s-15s.wav  \n",
       "1min_15s-20s.wav  prediction_example/split_files/1min_15s-20s.wav  \n",
       "1min_20s-25s.wav  prediction_example/split_files/1min_20s-25s.wav  "
      ]
     },
     "execution_count": 21,
     "metadata": {},
     "output_type": "execute_result"
    }
   ],
   "source": [
    "split_files.head()"
   ]
  },
  {
   "cell_type": "markdown",
   "metadata": {},
   "source": [
    "### Create a Dataset\n",
    "\n",
    "Now that the data are split, we can create a \"dataset\" from them. \n",
    "\n",
    "To create a dataset requires that we create a dictionary that associates numeric labels with the class names: 1 is for predicting a Wood Thrush's presence; 0 is for predicting a Wood Thrush's absence. In more recent versions of the model, this label dictionary is packaged with the model download."
   ]
  },
  {
   "cell_type": "code",
   "execution_count": 22,
   "metadata": {},
   "outputs": [],
   "source": [
    "label_dict = {0:'hylocichla-mustelina-absent', 1:'hylocichla-mustelina-present'}"
   ]
  },
  {
   "cell_type": "markdown",
   "metadata": {},
   "source": [
    "Now we create a `SingleTargetAudioDataset`. This structure enables the data to be transformed into spectrograms when `test_dataset` is accessed."
   ]
  },
  {
   "cell_type": "code",
   "execution_count": 23,
   "metadata": {},
   "outputs": [],
   "source": [
    "test_dataset = SingleTargetAudioDataset(\n",
    "    split_files,\n",
    "    filename_column = \"file_path\",\n",
    "    label_dict = label_dict\n",
    ")"
   ]
  },
  {
   "cell_type": "markdown",
   "metadata": {},
   "source": [
    "The `test_dataset` is a list of dictionaries. Each element of the list contains a dictionary for one of the files to predict on."
   ]
  },
  {
   "cell_type": "code",
   "execution_count": 24,
   "metadata": {},
   "outputs": [
    {
     "data": {
      "text/plain": [
       "12"
      ]
     },
     "execution_count": 24,
     "metadata": {},
     "output_type": "execute_result"
    }
   ],
   "source": [
    "len(test_dataset)"
   ]
  },
  {
   "cell_type": "markdown",
   "metadata": {},
   "source": [
    "Each dictionary in `test_dataset` has one or two keys. In all cases, the dictionary has a key `'X'` which refers to the spectrogram. If a dataset is created with true labels, the dictionary also has a `'y'` key which links to the true label. Because it is unknown which of these files contain Wood Thrush songs, no true labels were given when creating the dataset.\n",
    "\n",
    "The spectrogram itself is stored as a PyTorch tensor. For example, here is the tensor of the first spectrogram:"
   ]
  },
  {
   "cell_type": "code",
   "execution_count": 25,
   "metadata": {},
   "outputs": [
    {
     "data": {
      "text/plain": [
       "tensor([[[0.8471, 0.7373, 0.8039,  ..., 0.7686, 0.7608, 0.7882],\n",
       "         [0.7529, 0.6784, 0.7373,  ..., 0.7922, 0.6667, 0.5608],\n",
       "         [0.8118, 0.7294, 0.7451,  ..., 0.7294, 0.6314, 0.5961],\n",
       "         ...,\n",
       "         [0.3961, 0.4353, 0.4471,  ..., 0.4941, 0.5255, 0.4941],\n",
       "         [0.3843, 0.3843, 0.5020,  ..., 0.4353, 0.4431, 0.4118],\n",
       "         [0.5176, 0.5882, 0.6039,  ..., 0.5020, 0.4980, 0.4902]],\n",
       "\n",
       "        [[0.8471, 0.7373, 0.8039,  ..., 0.7686, 0.7608, 0.7882],\n",
       "         [0.7529, 0.6784, 0.7373,  ..., 0.7922, 0.6667, 0.5608],\n",
       "         [0.8118, 0.7294, 0.7451,  ..., 0.7294, 0.6314, 0.5961],\n",
       "         ...,\n",
       "         [0.3961, 0.4353, 0.4471,  ..., 0.4941, 0.5255, 0.4941],\n",
       "         [0.3843, 0.3843, 0.5020,  ..., 0.4353, 0.4431, 0.4118],\n",
       "         [0.5176, 0.5882, 0.6039,  ..., 0.5020, 0.4980, 0.4902]],\n",
       "\n",
       "        [[0.8471, 0.7373, 0.8039,  ..., 0.7686, 0.7608, 0.7882],\n",
       "         [0.7529, 0.6784, 0.7373,  ..., 0.7922, 0.6667, 0.5608],\n",
       "         [0.8118, 0.7294, 0.7451,  ..., 0.7294, 0.6314, 0.5961],\n",
       "         ...,\n",
       "         [0.3961, 0.4353, 0.4471,  ..., 0.4941, 0.5255, 0.4941],\n",
       "         [0.3843, 0.3843, 0.5020,  ..., 0.4353, 0.4431, 0.4118],\n",
       "         [0.5176, 0.5882, 0.6039,  ..., 0.5020, 0.4980, 0.4902]]])"
      ]
     },
     "execution_count": 25,
     "metadata": {},
     "output_type": "execute_result"
    }
   ],
   "source": [
    "first_tensor = test_dataset[0]['X']\n",
    "first_tensor"
   ]
  },
  {
   "cell_type": "markdown",
   "metadata": {},
   "source": [
    "To view this spectrogram, use PyTorch's `transforms.ToPILImage()` function. This function returns a transformer. Call the transformer on the first tensor to display the spectrogram as an image."
   ]
  },
  {
   "cell_type": "code",
   "execution_count": 26,
   "metadata": {},
   "outputs": [
    {
     "data": {
      "image/png": "[encoded data removed]",
      "text/plain": [
       "<PIL.Image.Image image mode=RGB size=224x224 at 0x1367BCEB8>"
      ]
     },
     "execution_count": 26,
     "metadata": {},
     "output_type": "execute_result"
    }
   ],
   "source": [
    "transformer = torchvision.transforms.ToPILImage()\n",
    "transformer(first_tensor)"
   ]
  },
  {
   "cell_type": "markdown",
   "metadata": {},
   "source": [
    "## Use model on prediction files\n",
    "\n",
    "Finally, the model can be used for prediction. The model must be put into \"evaluate\" mode instead of training mode. This returns a long "
   ]
  },
  {
   "cell_type": "code",
   "execution_count": 27,
   "metadata": {},
   "outputs": [],
   "source": [
    "_ = model.eval()"
   ]
  },
  {
   "cell_type": "markdown",
   "metadata": {},
   "source": [
    "Use OpenSoundscape's `predict` function to call the model on the test dataset. The `label_dict` created above is used to make the classes interpretable; otherwise, the classes would just be numbered."
   ]
  },
  {
   "cell_type": "code",
   "execution_count": 28,
   "metadata": {},
   "outputs": [
    {
     "data": {
      "text/html": [
       "<div>\n",
       "<style scoped>\n",
       "    .dataframe tbody tr th:only-of-type {\n",
       "        vertical-align: middle;\n",
       "    }\n",
       "\n",
       "    .dataframe tbody tr th {\n",
       "        vertical-align: top;\n",
       "    }\n",
       "\n",
       "    .dataframe thead th {\n",
       "        text-align: right;\n",
       "    }\n",
       "</style>\n",
       "<table border=\"1\" class=\"dataframe\">\n",
       "  <thead>\n",
       "    <tr style=\"text-align: right;\">\n",
       "      <th></th>\n",
       "      <th>hylocichla-mustelina-absent</th>\n",
       "      <th>hylocichla-mustelina-present</th>\n",
       "    </tr>\n",
       "  </thead>\n",
       "  <tbody>\n",
       "    <tr>\n",
       "      <th>prediction_example/split_files/1min_0s-5s.wav</th>\n",
       "      <td>2.351259</td>\n",
       "      <td>-1.628652</td>\n",
       "    </tr>\n",
       "    <tr>\n",
       "      <th>prediction_example/split_files/1min_5s-10s.wav</th>\n",
       "      <td>2.513747</td>\n",
       "      <td>-2.366485</td>\n",
       "    </tr>\n",
       "    <tr>\n",
       "      <th>prediction_example/split_files/1min_10s-15s.wav</th>\n",
       "      <td>0.816133</td>\n",
       "      <td>-0.903320</td>\n",
       "    </tr>\n",
       "    <tr>\n",
       "      <th>prediction_example/split_files/1min_15s-20s.wav</th>\n",
       "      <td>0.273381</td>\n",
       "      <td>-0.397208</td>\n",
       "    </tr>\n",
       "    <tr>\n",
       "      <th>prediction_example/split_files/1min_20s-25s.wav</th>\n",
       "      <td>1.315882</td>\n",
       "      <td>-1.407135</td>\n",
       "    </tr>\n",
       "    <tr>\n",
       "      <th>prediction_example/split_files/1min_25s-30s.wav</th>\n",
       "      <td>1.744635</td>\n",
       "      <td>-1.055664</td>\n",
       "    </tr>\n",
       "    <tr>\n",
       "      <th>prediction_example/split_files/1min_30s-35s.wav</th>\n",
       "      <td>1.940377</td>\n",
       "      <td>-1.725088</td>\n",
       "    </tr>\n",
       "    <tr>\n",
       "      <th>prediction_example/split_files/1min_35s-40s.wav</th>\n",
       "      <td>2.138355</td>\n",
       "      <td>-1.632506</td>\n",
       "    </tr>\n",
       "    <tr>\n",
       "      <th>prediction_example/split_files/1min_40s-45s.wav</th>\n",
       "      <td>1.766514</td>\n",
       "      <td>-1.096341</td>\n",
       "    </tr>\n",
       "    <tr>\n",
       "      <th>prediction_example/split_files/1min_45s-50s.wav</th>\n",
       "      <td>1.570931</td>\n",
       "      <td>-1.124706</td>\n",
       "    </tr>\n",
       "    <tr>\n",
       "      <th>prediction_example/split_files/1min_50s-55s.wav</th>\n",
       "      <td>2.629047</td>\n",
       "      <td>-1.988923</td>\n",
       "    </tr>\n",
       "    <tr>\n",
       "      <th>prediction_example/split_files/1min_55s-60s.wav</th>\n",
       "      <td>1.480433</td>\n",
       "      <td>-0.927409</td>\n",
       "    </tr>\n",
       "  </tbody>\n",
       "</table>\n",
       "</div>"
      ],
      "text/plain": [
       "                                                 hylocichla-mustelina-absent  \\\n",
       "prediction_example/split_files/1min_0s-5s.wav                       2.351259   \n",
       "prediction_example/split_files/1min_5s-10s.wav                      2.513747   \n",
       "prediction_example/split_files/1min_10s-15s.wav                     0.816133   \n",
       "prediction_example/split_files/1min_15s-20s.wav                     0.273381   \n",
       "prediction_example/split_files/1min_20s-25s.wav                     1.315882   \n",
       "prediction_example/split_files/1min_25s-30s.wav                     1.744635   \n",
       "prediction_example/split_files/1min_30s-35s.wav                     1.940377   \n",
       "prediction_example/split_files/1min_35s-40s.wav                     2.138355   \n",
       "prediction_example/split_files/1min_40s-45s.wav                     1.766514   \n",
       "prediction_example/split_files/1min_45s-50s.wav                     1.570931   \n",
       "prediction_example/split_files/1min_50s-55s.wav                     2.629047   \n",
       "prediction_example/split_files/1min_55s-60s.wav                     1.480433   \n",
       "\n",
       "                                                 hylocichla-mustelina-present  \n",
       "prediction_example/split_files/1min_0s-5s.wav                       -1.628652  \n",
       "prediction_example/split_files/1min_5s-10s.wav                      -2.366485  \n",
       "prediction_example/split_files/1min_10s-15s.wav                     -0.903320  \n",
       "prediction_example/split_files/1min_15s-20s.wav                     -0.397208  \n",
       "prediction_example/split_files/1min_20s-25s.wav                     -1.407135  \n",
       "prediction_example/split_files/1min_25s-30s.wav                     -1.055664  \n",
       "prediction_example/split_files/1min_30s-35s.wav                     -1.725088  \n",
       "prediction_example/split_files/1min_35s-40s.wav                     -1.632506  \n",
       "prediction_example/split_files/1min_40s-45s.wav                     -1.096341  \n",
       "prediction_example/split_files/1min_45s-50s.wav                     -1.124706  \n",
       "prediction_example/split_files/1min_50s-55s.wav                     -1.988923  \n",
       "prediction_example/split_files/1min_55s-60s.wav                     -0.927409  "
      ]
     },
     "execution_count": 28,
     "metadata": {},
     "output_type": "execute_result"
    }
   ],
   "source": [
    "prediction_df = predict(model, test_dataset, label_dict=label_dict)\n",
    "prediction_df"
   ]
  },
  {
   "cell_type": "markdown",
   "metadata": {},
   "source": [
    "Finally, this command \"cleans up\" by deleting all the downloaded files and results."
   ]
  },
  {
   "cell_type": "code",
   "execution_count": 29,
   "metadata": {},
   "outputs": [],
   "source": [
    "import shutil\n",
    "shutil.rmtree(folder_path)"
   ]
  }
 ],
 "metadata": {
  "kernelspec": {
   "display_name": "OpenSoundscape",
   "language": "python",
   "name": "opensoundscape-dxmth98s-py3.7"
  },
  "language_info": {
   "codemirror_mode": {
    "name": "ipython",
    "version": 3
   },
   "file_extension": ".py",
   "mimetype": "text/x-python",
   "name": "python",
   "nbconvert_exporter": "python",
   "pygments_lexer": "ipython3",
   "version": "3.7.0"
  }
 },
 "nbformat": 4,
 "nbformat_minor": 4
}
