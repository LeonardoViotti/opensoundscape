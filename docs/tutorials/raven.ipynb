{
 "cells": [
  {
   "cell_type": "markdown",
   "metadata": {},
   "source": [
    "# Raven annotations\n",
    "[Raven Sound Analysis Software](https://ravensoundsoftware.com/) enables users to inspect spectrograms, draw time and frequency boxes around sounds of interest, and label these boxes with species identities. OpenSoundscape contains functionality to prepare and use these annotations for machine learning."
   ]
  },
  {
   "cell_type": "markdown",
   "metadata": {},
   "source": [
    "## Download annotated data\n",
    "We published an example Raven-annotated dataset here: https://doi.org/10.1002/ecy.3329"
   ]
  },
  {
   "cell_type": "code",
   "execution_count": 10,
   "metadata": {},
   "outputs": [],
   "source": [
    "from pathlib import Path\n",
    "import subprocess"
   ]
  },
  {
   "cell_type": "markdown",
   "metadata": {},
   "source": [
    "Download the zipped data here:"
   ]
  },
  {
   "cell_type": "code",
   "execution_count": 11,
   "metadata": {},
   "outputs": [
    {
     "data": {
      "text/plain": [
       "CompletedProcess(args=['curl', 'https://esajournals.onlinelibrary.wiley.com/action/downloadSupplement?doi=10.1002%2Fecy.3329&file=ecy3329-sup-0001-DataS1.zip', '-L', '-o', 'powdermill_data.zip'], returncode=0)"
      ]
     },
     "execution_count": 11,
     "metadata": {},
     "output_type": "execute_result"
    }
   ],
   "source": [
    "url = \"https://esajournals.onlinelibrary.wiley.com/action/downloadSupplement?doi=10.1002%2Fecy.3329&file=ecy3329-sup-0001-DataS1.zip\"\n",
    "name = 'powdermill_data.zip'\n",
    "subprocess.run(['curl',url, '-L', '-o', name]) # Download the data"
   ]
  },
  {
   "cell_type": "markdown",
   "metadata": {},
   "source": [
    "Unzip the files to a new directory, `powdermill_data/`"
   ]
  },
  {
   "cell_type": "code",
   "execution_count": 12,
   "metadata": {},
   "outputs": [
    {
     "data": {
      "text/plain": [
       "CompletedProcess(args=['unzip', 'powdermill_data.zip', '-d', 'powdermill_data'], returncode=9)"
      ]
     },
     "execution_count": 12,
     "metadata": {},
     "output_type": "execute_result"
    }
   ],
   "source": [
    "subprocess.run([\"unzip\", \"powdermill_data.zip\", \"-d\", \"powdermill_data\"])"
   ]
  },
  {
   "cell_type": "markdown",
   "metadata": {},
   "source": [
    "Keep track of the files we have now so we can delete them later."
   ]
  },
  {
   "cell_type": "code",
   "execution_count": 13,
   "metadata": {},
   "outputs": [],
   "source": [
    "files_to_delete = [Path(\"powdermill_data\"), Path(\"powdermill_data.zip\")]"
   ]
  },
  {
   "cell_type": "markdown",
   "metadata": {},
   "source": [
    "## Preprocess Raven data\n",
    "\n",
    "The `opensoundscape.raven` module contains preprocessing functions for Raven data, including:\n",
    "\n",
    "* `annotation_check` - for all the selections files, make sure they all contain labels\n",
    "* `lowercase_annotations` - lowercase all of the annotations\n",
    "* `generate_class_corrections` - create a CSV to see whether there are any weird names\n",
    "    * Modify the CSV as needed. If you need to look up files you can use `query_annotations`\n",
    "    * Can be used in `SplitterDataset`\n",
    "* `apply_class_corrections` - replace incorrect labels with correct labels\n",
    "* `query_annotations` - look for files that contain a particular species or a typo"
   ]
  },
  {
   "cell_type": "code",
   "execution_count": 14,
   "metadata": {},
   "outputs": [
    {
     "ename": "ModuleNotFoundError",
     "evalue": "No module named 'opensoundscape.raven'",
     "output_type": "error",
     "traceback": [
      "\u001b[0;31m---------------------------------------------------------------------------\u001b[0m",
      "\u001b[0;31mModuleNotFoundError\u001b[0m                       Traceback (most recent call last)",
      "\u001b[0;32m<ipython-input-14-e77ea41945a7>\u001b[0m in \u001b[0;36m<module>\u001b[0;34m\u001b[0m\n\u001b[1;32m      1\u001b[0m \u001b[0;32mimport\u001b[0m \u001b[0mpandas\u001b[0m \u001b[0;32mas\u001b[0m \u001b[0mpd\u001b[0m\u001b[0;34m\u001b[0m\u001b[0;34m\u001b[0m\u001b[0m\n\u001b[0;32m----> 2\u001b[0;31m \u001b[0;32mimport\u001b[0m \u001b[0mopensoundscape\u001b[0m\u001b[0;34m.\u001b[0m\u001b[0mraven\u001b[0m \u001b[0;32mas\u001b[0m \u001b[0mraven\u001b[0m\u001b[0;34m\u001b[0m\u001b[0;34m\u001b[0m\u001b[0m\n\u001b[0m\u001b[1;32m      3\u001b[0m \u001b[0;32mimport\u001b[0m \u001b[0mopensoundscape\u001b[0m\u001b[0;34m.\u001b[0m\u001b[0maudio\u001b[0m \u001b[0;32mas\u001b[0m \u001b[0maudio\u001b[0m\u001b[0;34m\u001b[0m\u001b[0;34m\u001b[0m\u001b[0m\n",
      "\u001b[0;31mModuleNotFoundError\u001b[0m: No module named 'opensoundscape.raven'"
     ]
    }
   ],
   "source": [
    "import pandas as pd\n",
    "import opensoundscape.raven as raven\n",
    "import opensoundscape.audio as audio"
   ]
  },
  {
   "cell_type": "code",
   "execution_count": null,
   "metadata": {},
   "outputs": [],
   "source": [
    "raven_files_raw = Path(\"./powdermill_data/Annotation_Files/\")"
   ]
  },
  {
   "cell_type": "markdown",
   "metadata": {},
   "source": [
    "### Check Raven files have labels\n",
    "\n",
    "Check that all selections files contain labels under one column name. In this dataset the labels column is named `\"species\"`."
   ]
  },
  {
   "cell_type": "code",
   "execution_count": null,
   "metadata": {},
   "outputs": [],
   "source": [
    "raven.annotation_check(directory=raven_files_raw, col='species')"
   ]
  },
  {
   "cell_type": "markdown",
   "metadata": {},
   "source": [
    "### Create lowercase files\n",
    "\n",
    "Convert all the text in the files to lowercase to standardize them. Save these to a new directory. They will be saved with the same filename but with \".lower\" appended."
   ]
  },
  {
   "cell_type": "code",
   "execution_count": null,
   "metadata": {},
   "outputs": [],
   "source": [
    "raven_directory = Path('./powdermill_data/Annotation_Files_Standardized')\n",
    "if not raven_directory.exists(): raven_directory.mkdir()\n",
    "raven.lowercase_annotations(directory=raven_files_raw, out_dir=raven_directory)"
   ]
  },
  {
   "cell_type": "markdown",
   "metadata": {},
   "source": [
    "Check that the outputs are saved as expected."
   ]
  },
  {
   "cell_type": "code",
   "execution_count": null,
   "metadata": {},
   "outputs": [],
   "source": [
    "list(raven_directory.glob(\"*.lower\"))[:5]"
   ]
  },
  {
   "cell_type": "markdown",
   "metadata": {},
   "source": [
    "### Generate class corrections\n",
    "\n",
    "This function generates a table that can be modified by hand to correct labels with typos in them. It identifies the unique labels in the provided column (here `\"species\"`) in all of the lowercase files in the directory `raven_directory`.\n",
    "\n",
    "For instance, the generated table could be something like the following:\n",
    "```\n",
    "raw,corrected\n",
    "sparrow,sparrow\n",
    "sparow,sparow\n",
    "goose,goose\n",
    "```"
   ]
  },
  {
   "cell_type": "code",
   "execution_count": null,
   "metadata": {},
   "outputs": [],
   "source": [
    "print(raven.generate_class_corrections(directory=raven_directory, col='species'))"
   ]
  },
  {
   "cell_type": "markdown",
   "metadata": {},
   "source": [
    "The released dataset has no need for class corrections, but if it did, we could save the return text to a CSV and use the CSV to apply corrections to future dataframes."
   ]
  },
  {
   "cell_type": "markdown",
   "metadata": {},
   "source": [
    "### Query annotations\n",
    "This function can be used to print all annotations of a particular class, e.g. \"amro\" (American Robin)"
   ]
  },
  {
   "cell_type": "code",
   "execution_count": null,
   "metadata": {},
   "outputs": [],
   "source": [
    "output = raven.query_annotations(directory=raven_directory, cls='amro', col='species', print_out=True)"
   ]
  },
  {
   "cell_type": "markdown",
   "metadata": {},
   "source": [
    "## Split Raven annotations and audio files\n",
    "\n",
    "The Raven module's `raven_audio_split_and_save` function enables splitting of both audio data and associated annotations. It requires that the annotation and audio filenames are unique, and that corresponding annotation and audiofilenames are named the same filenames as each other."
   ]
  },
  {
   "cell_type": "code",
   "execution_count": null,
   "metadata": {},
   "outputs": [],
   "source": [
    "audio_directory = Path('./powdermill_data/Recordings/')\n",
    "destination = Path('./powdermill_data/Split_Recordings')\n",
    "out = raven.raven_audio_split_and_save(\n",
    "    \n",
    "    # Where to look for Raven files\n",
    "    raven_directory = raven_directory,\n",
    "    \n",
    "    # Where to look for audio files\n",
    "    audio_directory = audio_directory,\n",
    "    \n",
    "    # The destination to save clips and the labels CSV to \n",
    "    destination = destination,\n",
    "    \n",
    "    # The column name of the labels\n",
    "    col = 'species',\n",
    "    \n",
    "    # Desired audio sample rate\n",
    "    sample_rate = 22050,\n",
    "    \n",
    "    # Desired duration of clips\n",
    "    clip_duration = 5,\n",
    "    \n",
    "    # Verbose (uncomment the next line to see progress--this cell takes a while to run)\n",
    "    #verbose=True,\n",
    ")"
   ]
  },
  {
   "cell_type": "markdown",
   "metadata": {},
   "source": [
    "The results of the splitting are saved in the destination folder under the name `labels.csv`."
   ]
  },
  {
   "cell_type": "code",
   "execution_count": null,
   "metadata": {},
   "outputs": [],
   "source": [
    "labels = pd.read_csv(destination.joinpath(\"labels.csv\"), index_col='filename')\n",
    "labels.head()"
   ]
  },
  {
   "cell_type": "markdown",
   "metadata": {},
   "source": [
    "The `raven_audio_split_and_save` function contains several options. Notable options are:\n",
    "\n",
    "* `clip_duration`: the length of the clips\n",
    "* `clip_overlap`: the overlap, in seconds, between clips\n",
    "* `final_clip`: what to do with the final clip if it is not exactly `clip_duration` in length (see API docs for more details)\n",
    "* `labeled_clips_only`: whether to only save labeled clips\n",
    "* `min_label_length`: minimum length, in seconds, of an annotation for a clip to be considered labeled. For instance, if an annotation only overlaps 0.1s with a 5s clip, you might want to exclude it with `min_label_length=0.2`.\n",
    "* `species`: a subset of species to search for labels of (by default, finds all species labels in dataset)\n",
    "* `dry_run`: if `True`, produces print statements and returns dataframe of labels, but does not save files.\n",
    "* `verbose`: if `True`, prints more information, e.g. clip-by-clip progress."
   ]
  },
  {
   "cell_type": "markdown",
   "metadata": {},
   "source": [
    "For instance, let's extract labels for one species, American Redstart (AMRE) only saving clips that contain at least 0.5s of label for that species. The \"verbose\" flag causes the function to print progress splitting each clip."
   ]
  },
  {
   "cell_type": "code",
   "execution_count": null,
   "metadata": {},
   "outputs": [],
   "source": [
    "btnw_split_dir = Path('./powdermill_data/btnw_recordings')\n",
    "out = raven.raven_audio_split_and_save(\n",
    "    raven_directory = raven_directory,\n",
    "    audio_directory = audio_directory,\n",
    "    destination = btnw_split_dir,\n",
    "    col = 'species',\n",
    "    sample_rate = 22050,\n",
    "    clip_duration = 5,\n",
    "    clip_overlap = 0,\n",
    "    verbose=True,\n",
    "    species='amre',\n",
    "    labeled_clips_only=True,\n",
    "    min_label_len=1\n",
    ")"
   ]
  },
  {
   "cell_type": "markdown",
   "metadata": {},
   "source": [
    "The labels CSV only has a column for the species of interest:"
   ]
  },
  {
   "cell_type": "code",
   "execution_count": null,
   "metadata": {},
   "outputs": [],
   "source": [
    "btnw_labels = pd.read_csv(btnw_split_dir.joinpath(\"labels.csv\"), index_col='filename')\n",
    "btnw_labels.head()"
   ]
  },
  {
   "cell_type": "markdown",
   "metadata": {},
   "source": [
    "The split files and associated labels csv can now be used to train machine learning models (see additional tutorials).\n",
    "\n",
    "The command below cleans up after the tutorial is done -- only run it if you want to delete all of the files."
   ]
  },
  {
   "cell_type": "code",
   "execution_count": null,
   "metadata": {},
   "outputs": [],
   "source": [
    "from shutil import rmtree\n",
    "for file in files_to_delete:\n",
    "    if file.is_dir():\n",
    "        rmtree(file)\n",
    "    else:\n",
    "        file.unlink()"
   ]
  }
 ],
 "metadata": {
  "kernelspec": {
   "display_name": "OpSoPoetry",
   "language": "python",
   "name": "opensoundscape-ayasfgeb-py3.8"
  },
  "language_info": {
   "codemirror_mode": {
    "name": "ipython",
    "version": 3
   },
   "file_extension": ".py",
   "mimetype": "text/x-python",
   "name": "python",
   "nbconvert_exporter": "python",
   "pygments_lexer": "ipython3",
   "version": "3.8.10"
  }
 },
 "nbformat": 4,
 "nbformat_minor": 4
}
