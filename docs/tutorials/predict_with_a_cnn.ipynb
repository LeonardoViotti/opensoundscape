{
 "cells": [
  {
   "cell_type": "markdown",
   "id": "b0ae80e0-0ad9-4172-ac17-dec87927946f",
   "metadata": {},
   "source": [
    "# Predict with a CNN\n",
    "\n",
    "## Run this tutorial\n",
    "\n",
    "This tutorial is more than a reference! It's a Jupyter Notebook which you can run and modify on Google Colab or your own computer.\n",
    "\n",
    "|Link to tutorial|How to run tutorial|\n",
    "| :- | :- |\n",
    "| [![Open In Colab](https://colab.research.google.com/assets/colab-badge.svg)](https://colab.research.google.com/github/kitzeslab/opensoundscape/blob/master/docs/tutorials/spectrogram.ipynb) | The link opens the tutorial in Google Colab. Uncomment the \"installation\" line in the first cell to install OpenSoundscape. |\n",
    "| [![Download via DownGit](https://img.shields.io/badge/GitHub-Download-teal?logo=github)](https://minhaskamal.github.io/DownGit/#/home?url=https://github.com/kitzeslab/opensoundscape/blob/master/docs/tutorials/spectrogram.ipynb) | The link downloads the tutorial file to your computer. Follow the [Jupyter installation instructions](https://opensoundscape.org/en/latest/installation/jupyter.html), then open the tutorial file in Jupyter. |"
   ]
  },
  {
   "cell_type": "code",
   "execution_count": null,
   "id": "c196e7c9-ce09-451f-992c-921935c82aed",
   "metadata": {},
   "outputs": [],
   "source": [
    "# Uncomment the next line to download OpenSoundscape for use in Google Colab\n",
    "#!pip install opensoundscape"
   ]
  },
  {
   "cell_type": "code",
   "execution_count": null,
   "id": "cba462a4-8b12-4336-a26c-f299d0dbb184",
   "metadata": {},
   "outputs": [],
   "source": []
  }
 ],
 "metadata": {
  "kernelspec": {
   "display_name": "Python 3 (ipykernel)",
   "language": "python",
   "name": "python3"
  },
  "language_info": {
   "codemirror_mode": {
    "name": "ipython",
    "version": 3
   },
   "file_extension": ".py",
   "mimetype": "text/x-python",
   "name": "python",
   "nbconvert_exporter": "python",
   "pygments_lexer": "ipython3",
   "version": "3.8.5"
  }
 },
 "nbformat": 4,
 "nbformat_minor": 5
}
