{
 "cells": [
  {
   "cell_type": "markdown",
   "id": "37d498e1-9a52-4521-87b0-14719d0ce8ee",
   "metadata": {},
   "source": [
    "# Acoustic localization\n",
    "Coming soon!"
   ]
  },
  {
   "cell_type": "code",
   "execution_count": null,
   "id": "dc0ee9b0-f15c-4ebc-8f65-ad8f41f4143d",
   "metadata": {},
   "outputs": [],
   "source": []
  }
 ],
 "metadata": {
  "kernelspec": {
   "display_name": "Python 3 (ipykernel)",
   "language": "python",
   "name": "python3"
  },
  "language_info": {
   "codemirror_mode": {
    "name": "ipython",
    "version": 3
   },
   "file_extension": ".py",
   "mimetype": "text/x-python",
   "name": "python",
   "nbconvert_exporter": "python",
   "pygments_lexer": "ipython3",
   "version": "3.8.5"
  }
 },
 "nbformat": 4,
 "nbformat_minor": 5
}
