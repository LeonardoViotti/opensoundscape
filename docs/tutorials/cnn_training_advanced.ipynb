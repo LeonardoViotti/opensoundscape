{
 "cells": [
  {
   "cell_type": "markdown",
   "metadata": {},
   "source": [
    "# Custom CNN training\n",
    "This notebook demonstrates how to use `opensoundscape.torch.cnn` classes to\n",
    "\n",
    "- schedule the learning rate decay\n",
    "\n",
    "- choose from various architectures\n",
    "\n",
    "- use strategic sampling for imbalanced training data\n",
    "\n",
    "- train on spectrograms with a bandpassed frequency range\n",
    "\n",
    "Rather than demonstrating their effects on training (model training is slow!), most examples in this notebook either don't train the model or \"train\" it for 0 epochs for the purpose of demonstration.\n",
    "\n",
    "For introductory demos (basic training, prediction, saving/loading models), see the [\"basic training and prediction with CNNs\" tutorial](tutorials/cnn.html) (cnn.ipynb). "
   ]
  },
  {
   "cell_type": "code",
   "execution_count": 4,
   "metadata": {},
   "outputs": [],
   "source": [
    "from opensoundscape.preprocess.preprocessors import BasePreprocessor, AudioToSpectrogramPreprocessor, CnnPreprocessor\n",
    "from opensoundscape.torch.models.cnn import PytorchModel, Resnet18Multiclass, Resnet18Binary, InceptionV3\n",
    "from opensoundscape.helpers import retrieve_url\n",
    "\n",
    "import torch\n",
    "import pandas as pd\n",
    "from pathlib import Path\n",
    "import numpy as np\n",
    "import pandas as pd\n",
    "import random \n",
    "\n",
    "from matplotlib import pyplot as plt\n",
    "plt.rcParams['figure.figsize']=[15,5] #for big visuals\n",
    "%config InlineBackend.figure_format = 'retina'"
   ]
  },
  {
   "cell_type": "markdown",
   "metadata": {},
   "source": [
    "## Prepare audio data\n",
    "\n",
    "### Download labeled audio files\n",
    "\n",
    "The Kitzes Lab has created a small labeled dataset of short clips of American Woodcock vocalizations. You have two options for obtaining the folder of data, called `woodcock_labeled_data`:\n",
    "\n",
    "1. Run the following cell to download this small dataset. These commands require you to have `tar` installed on your computer, as they will download and unzip a compressed file in `.tar.gz` format. \n",
    "\n",
    "2. Download a `.zip` version of the files by clicking [here](https://pitt.box.com/shared/static/m0cmzebkr5qc49q9egxnrwwp50wi8zu5.zip). You will have to unzip this folder and place the unzipped folder in the same folder that this notebook is in.\n",
    "\n",
    "If you already have these files, you can skip or comment out this cell"
   ]
  },
  {
   "cell_type": "code",
   "execution_count": 5,
   "metadata": {},
   "outputs": [],
   "source": [
    "retrieve_url('https://pitt.box.com/shared/static/79fi7d715dulcldsy6uogz02rsn5uesd.gz', 'woodcock_labeled_data.tar.gz') # Download the data\n",
    "subprocess.run([\"tar\",\"-xzf\", \"woodcock_labeled_data.tar.gz\"]) # Unzip the downloaded tar.gz file\n",
    "subprocess.run([\"rm\", \"woodcock_labeled_data.tar.gz\"]) # Remove the file after its contents are unzipped"
   ]
  },
  {
   "cell_type": "markdown",
   "metadata": {},
   "source": [
    "### Create one-hot encoded labels\n",
    "See the \"Basic training and prediction with CNNs\" tutorial for more details.\n",
    "\n",
    "The audio data includes 2s long audio clips taken from an autonomous recording unit and a CSV of labels. We manipulate the label dataframe to give “one hot” labels - that is, a column for every class, with 1 for present or 0 for absent in each sample’s row. In this case, our classes are simply ‘negative’ for files without a woodcock and ‘positive’ for files with a woodcock. Note that these classes are mutually exclusive, so we have a “single-target” problem (as opposed to a “multi-target” problem where multiple classes can simultaneously be present).\n",
    "\n",
    "For more details on the steps below, see the \"basic training and prediction with CNNs\" tutorial."
   ]
  },
  {
   "cell_type": "code",
   "execution_count": 6,
   "metadata": {},
   "outputs": [
    {
     "data": {
      "text/html": [
       "<div>\n",
       "<style scoped>\n",
       "    .dataframe tbody tr th:only-of-type {\n",
       "        vertical-align: middle;\n",
       "    }\n",
       "\n",
       "    .dataframe tbody tr th {\n",
       "        vertical-align: top;\n",
       "    }\n",
       "\n",
       "    .dataframe thead th {\n",
       "        text-align: right;\n",
       "    }\n",
       "</style>\n",
       "<table border=\"1\" class=\"dataframe\">\n",
       "  <thead>\n",
       "    <tr style=\"text-align: right;\">\n",
       "      <th></th>\n",
       "      <th>absent</th>\n",
       "      <th>present</th>\n",
       "    </tr>\n",
       "    <tr>\n",
       "      <th>filename</th>\n",
       "      <th></th>\n",
       "      <th></th>\n",
       "    </tr>\n",
       "  </thead>\n",
       "  <tbody>\n",
       "    <tr>\n",
       "      <th>./woodcock_labeled_data/d4c40b6066b489518f8da83af1ee4984.wav</th>\n",
       "      <td>0</td>\n",
       "      <td>1</td>\n",
       "    </tr>\n",
       "    <tr>\n",
       "      <th>./woodcock_labeled_data/e84a4b60a4f2d049d73162ee99a7ead8.wav</th>\n",
       "      <td>1</td>\n",
       "      <td>0</td>\n",
       "    </tr>\n",
       "    <tr>\n",
       "      <th>./woodcock_labeled_data/79678c979ebb880d5ed6d56f26ba69ff.wav</th>\n",
       "      <td>0</td>\n",
       "      <td>1</td>\n",
       "    </tr>\n",
       "    <tr>\n",
       "      <th>./woodcock_labeled_data/49890077267b569e142440fa39b3041c.wav</th>\n",
       "      <td>0</td>\n",
       "      <td>1</td>\n",
       "    </tr>\n",
       "    <tr>\n",
       "      <th>./woodcock_labeled_data/0c453a87185d8c7ce05c5c5ac5d525dc.wav</th>\n",
       "      <td>0</td>\n",
       "      <td>1</td>\n",
       "    </tr>\n",
       "  </tbody>\n",
       "</table>\n",
       "</div>"
      ],
      "text/plain": [
       "                                                    absent  present\n",
       "filename                                                           \n",
       "./woodcock_labeled_data/d4c40b6066b489518f8da83...       0        1\n",
       "./woodcock_labeled_data/e84a4b60a4f2d049d73162e...       1        0\n",
       "./woodcock_labeled_data/79678c979ebb880d5ed6d56...       0        1\n",
       "./woodcock_labeled_data/49890077267b569e142440f...       0        1\n",
       "./woodcock_labeled_data/0c453a87185d8c7ce05c5c5...       0        1"
      ]
     },
     "execution_count": 6,
     "metadata": {},
     "output_type": "execute_result"
    }
   ],
   "source": [
    "#load Specky output: a table of labeled audio files\n",
    "specky_table = pd.read_csv(Path(\"woodcock_labeled_data/woodcock_labels.csv\"))\n",
    "#update the paths to the audio files\n",
    "specky_table.filename = ['./woodcock_labeled_data/'+f for f in specky_table.filename]\n",
    "\n",
    "from opensoundscape.annotations import categorical_to_one_hot\n",
    "one_hot_labels, classes = categorical_to_one_hot(specky_table[['woodcock']].values)\n",
    "labels = pd.DataFrame(index=specky_table['filename'],data=one_hot_labels,columns=classes)\n",
    "labels.head()"
   ]
  },
  {
   "cell_type": "markdown",
   "metadata": {},
   "source": [
    "### Split into train and validation sets\n",
    "\n",
    "Randomly split the data into training data and validation data."
   ]
  },
  {
   "cell_type": "code",
   "execution_count": 7,
   "metadata": {},
   "outputs": [
    {
     "data": {
      "text/plain": [
       "23"
      ]
     },
     "execution_count": 7,
     "metadata": {},
     "output_type": "execute_result"
    }
   ],
   "source": [
    "from sklearn.model_selection import train_test_split\n",
    "train_df, valid_df = train_test_split(labels, test_size=0.2, random_state=0)\n",
    "# for multi-class need at least a few images for each batch\n",
    "len(train_df)"
   ]
  },
  {
   "cell_type": "markdown",
   "metadata": {},
   "source": [
    "### Create Preprocessors\n",
    "\n",
    "Preprocessors take the audio data specified by the dataframe created above and prepare it for use by Pytorch, e.g., creating spectrograms and performing augmentation. For more detail, see the \"Basic training and prediction with CNNs\" tutorial and the \"Custom preprocessors\" tutorial."
   ]
  },
  {
   "cell_type": "code",
   "execution_count": 8,
   "metadata": {},
   "outputs": [],
   "source": [
    "from opensoundscape.preprocess.preprocessors import CnnPreprocessor\n",
    "\n",
    "train_dataset = CnnPreprocessor(train_df, overlay_df=train_df)\n",
    "\n",
    "valid_dataset = CnnPreprocessor(valid_df, overlay_df=valid_df, return_labels=True)"
   ]
  },
  {
   "cell_type": "markdown",
   "metadata": {},
   "source": [
    "## Model training parameters\n",
    "We can modify various parameters about model training, including:\n",
    "\n",
    "* The learning rate\n",
    "* The learning rate schedule\n",
    "* Weight decay for regularization\n",
    "\n",
    "Let's take a peek at the current parameters, stored in a dictionary."
   ]
  },
  {
   "cell_type": "code",
   "execution_count": 9,
   "metadata": {
    "tags": []
   },
   "outputs": [
    {
     "name": "stdout",
     "output_type": "stream",
     "text": [
      "created PytorchModel model object with 2 classes\n"
     ]
    },
    {
     "data": {
      "text/plain": [
       "{'feature': {'lr': 0.001, 'momentum': 0.9, 'weight_decay': 0.0005},\n",
       " 'classifier': {'lr': 0.01, 'momentum': 0.9, 'weight_decay': 0.0005}}"
      ]
     },
     "execution_count": 9,
     "metadata": {},
     "output_type": "execute_result"
    }
   ],
   "source": [
    "from opensoundscape.torch.models.cnn import Resnet18Binary\n",
    "model = Resnet18Binary(classes)\n",
    "model.optimizer_params"
   ]
  },
  {
   "cell_type": "markdown",
   "metadata": {},
   "source": [
    "### Learning rates\n",
    "The learning rate determines how much the model's weights change every time it calculates the loss function. \n",
    "\n",
    "Faster learning rates improve the speed of training and help the model leave local minima as it learns to classify, but if the learning rate is too fast, the model may not successfully fit the data or its fitting might be unstable.\n",
    "\n",
    "In `Resnet18Multiclass` and `Resnet18Binary`, we can modify the learning rates for the feature extration and classification blocks of the network separately. For example, we can specify a relatively fast learning rate for features and slower one for classifiers (though this might not be a good idea in practice):"
   ]
  },
  {
   "cell_type": "code",
   "execution_count": 10,
   "metadata": {},
   "outputs": [
    {
     "name": "stdout",
     "output_type": "stream",
     "text": [
      "created PytorchModel model object with 2 classes\n"
     ]
    }
   ],
   "source": [
    "model = Resnet18Binary(classes)\n",
    "model.optimizer_params['feature']['lr'] = 0.01\n",
    "model.optimizer_params['classifier']['lr'] = 0.001"
   ]
  },
  {
   "cell_type": "markdown",
   "metadata": {},
   "source": [
    "### Learning rate schedule\n",
    "It's often helpful to decrease the learning rate over the course of training. By reducing the amount that the model's weights are updated as time goes on, this causes the learning to gradually switch from coarsely searching across possible weights to fine-tuning the weights.\n",
    "\n",
    "By default, the learning rates are multiplied by 0.7 (the learning rate \"cooling factor\") once every 10 epochs (the learning rate \"update interval\"). \n",
    "\n",
    "Let's modify that for a very fast training schedule, where we want to multiply the learning rates by 0.1 every epoch. "
   ]
  },
  {
   "cell_type": "code",
   "execution_count": 11,
   "metadata": {},
   "outputs": [],
   "source": [
    "model.lr_cooling_factor = 0.1\n",
    "model.lr_update_interval = 1"
   ]
  },
  {
   "cell_type": "markdown",
   "metadata": {},
   "source": [
    "### Regularization weight decay\n",
    "The `Resnet18` classes perform [L2 regularization](https://developers.google.com/machine-learning/crash-course/regularization-for-simplicity/l2-regularization), giving the optimizer an incentive for the model to have small weights rather than large weights. The goal of this regularization is to reduce overfitting to the training data by reducing the complexity of the model. \n",
    "\n",
    "Depending on how much emphasis you want to place on the L2 regularization, you can change the weight decay parameter. By default, it is 0.0005. The higher the value for the \"weight decay\" parameter, the more the model training algorithm prioritizes smaller weights."
   ]
  },
  {
   "cell_type": "code",
   "execution_count": 12,
   "metadata": {},
   "outputs": [],
   "source": [
    "model.optimizer_params['feature']['weight_decay']=0.001\n",
    "model.optimizer_params['classifier']['weight_decay']=0.001"
   ]
  },
  {
   "cell_type": "markdown",
   "metadata": {},
   "source": [
    "### Pretrained weights\n",
    "\n",
    "In OpenSoundscape, most architectures implemented have the ability to use weights pretrained on the [ImageNet](https://www.image-net.org/) image database turned on by default. It takes some time to download these weights the first time an instance of a model is created with pretrained weights.\n",
    "\n",
    "Using pretrained weights often speeds up training significantly, as the representation learned from ImageNet is a good start at beginning to interpret spectrograms, even though they are not true \"pictures.\"\n",
    "\n",
    "Currently, this feature cannot be turned off in the `Resnet18` classes. However, if you prefer, you can turn this off in many classes when creating a custom architecture (see \"Network architectures\" below) by changing the `use_pretrained` argument to `False`, e.g.:"
   ]
  },
  {
   "cell_type": "code",
   "execution_count": 13,
   "metadata": {
    "tags": []
   },
   "outputs": [
    {
     "name": "stderr",
     "output_type": "stream",
     "text": [
      "/home/louisfh/.cache/pypoetry/virtualenvs/opensoundscape-ayasFgeB-py3.8/lib/python3.8/site-packages/torchvision/models/inception.py:80: FutureWarning: The default weight initialization of inception_v3 will be changed in future releases of torchvision. If you wish to keep the old behavior (which leads to long initialization times due to scipy/scipy#11299), please set init_weights=True.\n",
      "  warnings.warn('The default weight initialization of inception_v3 will be changed in future releases of '\n"
     ]
    },
    {
     "name": "stdout",
     "output_type": "stream",
     "text": [
      "created PytorchModel model object with 2 classes\n"
     ]
    }
   ],
   "source": [
    "# See \"InceptionV3 architecture\" section below for more information\n",
    "model = InceptionV3(classes, use_pretrained=False)"
   ]
  },
  {
   "cell_type": "markdown",
   "metadata": {},
   "source": [
    "### Freezing the feature extractor\n",
    "\n",
    "Convolutional Neural Networks can be thought of as having two parts: a **feature extractor** which learns how to represent/\"see\" the input data, and a **classifier** which takes those representations and transforms them into predictions about the class identity of each sample.\n",
    "\n",
    "You can freeze the feature extractor if you only want to train the final classification layer of the network but not modify any other weights. This could be useful for applying pre-trained classifiers to new data. To do so, set the `freeze_feature_extractor` argument to `True`. Below, we set the `use_pretrained` argument to `False` to avoid downloading the weights.\n"
   ]
  },
  {
   "cell_type": "code",
   "execution_count": 14,
   "metadata": {},
   "outputs": [
    {
     "name": "stdout",
     "output_type": "stream",
     "text": [
      "created PytorchModel model object with 2 classes\n"
     ]
    }
   ],
   "source": [
    "# See \"InceptionV3 architecture\" section below for more information\n",
    "model = InceptionV3(classes, freeze_feature_extractor=True, use_pretrained=False)"
   ]
  },
  {
   "cell_type": "markdown",
   "metadata": {},
   "source": [
    "## Network architecture\n",
    "\n",
    "It is possible to use a different model architecture than ResNet18. The [`opensoundscape.torch.models.cnn`](https://github.com/kitzeslab/opensoundscape/blob/master/opensoundscape/torch/models/cnn.py) module contains two types of classes for doing so:\n",
    "* Custom classes for both the ResNet18 architecture (`Resnet18Binary` and `Resnet18Multiclass`) and the InceptionV3 architecture (`InceptionV3` and `InceptionV3ResampleLoss`).\n",
    "* The `PytorchModel` class, which allows us to create a model with a different CNN architecture. The available architectures are listed in [`opensoundscape.torch.architectures.cnn_architectures`](https://github.com/kitzeslab/opensoundscape/blob/master/opensoundscape/torch/architectures/cnn_architectures.py).\n",
    "\n",
    "Below, we demonstrate the use of InceptionV3, how to create instances of other architectures, how to change the architecture on a model."
   ]
  },
  {
   "cell_type": "markdown",
   "metadata": {},
   "source": [
    "### InceptionV3 architecture\n",
    "The Inception architecture requires slightly different training and preprocessing from the ResNet architectures and the other architectures implemented in OpenSoundscape (see below), because:\n",
    "\n",
    "1) the input image shape must be 299x299, and\n",
    "\n",
    "2) Inception's forward pass gives output + auxiliary output.\n",
    "\n",
    "The InceptionV3 class in `cnn` handles the necessary modifications in training and prediction for you, but you'll need to make sure to pass images of the correct shape from your Preprocessor. Here's an example:"
   ]
  },
  {
   "cell_type": "code",
   "execution_count": 15,
   "metadata": {},
   "outputs": [
    {
     "name": "stdout",
     "output_type": "stream",
     "text": [
      "created PytorchModel model object with 2 classes\n",
      "Epoch: 0 [batch 0/6 (0.00%)] \n",
      "\tJacc: 0.500 Hamm: 0.500 DistLoss: 1.009\n",
      "\n",
      "Validation.\n",
      "(23, 2)\n",
      "\t Precision: 0.391304347826087\n",
      "\t Recall: 0.5\n",
      "\t F1: 0.4390243902439025\n",
      "Saving weights, metrics, and train/valid scores.\n",
      "Saving to epoch-0.model\n",
      "Updating best model\n",
      "Saving to best.model\n",
      "\n",
      "Best Model Appears at Epoch 0 with F1 0.439.\n",
      "(23, 2)\n"
     ]
    }
   ],
   "source": [
    "from opensoundscape.torch.models.cnn import InceptionV3\n",
    "\n",
    "#generate an Inception model\n",
    "model = InceptionV3(classes=classes,use_pretrained=False)\n",
    "\n",
    "#create a copy of the training dataset\n",
    "inception_dataset = train_dataset.sample(frac=1)\n",
    "\n",
    "#modify the preprocessor to give 299x299 image shape\n",
    "inception_dataset.actions.to_img.set(shape=[299,299])\n",
    "\n",
    "#train and validate for 1 epoch\n",
    "#note that Inception will complain if batch_size=1\n",
    "model.train(inception_dataset,inception_dataset,epochs=1,batch_size=4)\n",
    "\n",
    "#predict\n",
    "preds, _, _ = model.predict(inception_dataset)"
   ]
  },
  {
   "cell_type": "markdown",
   "metadata": {},
   "source": [
    "### Pytorch stock architectures\n",
    "The `opensoundscape.torch.architectures.cnn_architectures` module provides helper functions to generate various CNN architectures in Pytorch. These are well-known CNN architectures that Pytorch provides out of the box. The architectures provided include:\n",
    "\n",
    "* Other ResNet types (resnet34, resnet50, resnet101, resnet152)\n",
    "* AlexNet\n",
    "* Vgg11\n",
    "* Squeezenet\n",
    "* Densenet121\n",
    "\n",
    "Also implemented are ResNet18 and InceptionV3, but in most cases, you should use the pre-implemented classes for those instead of loading them into a `PytorchModel`.\n",
    "\n",
    "Calling a function from this module, e.g. `alexnet()`, will return a CNN architecture that we can use to instantiate a `PytorchModel`. \n",
    "\n",
    "Below and in the following examples, we set `use_pretrained=False` to avoid downloading all of the weights for these models."
   ]
  },
  {
   "cell_type": "code",
   "execution_count": 16,
   "metadata": {},
   "outputs": [
    {
     "name": "stdout",
     "output_type": "stream",
     "text": [
      "created PytorchModel model object with 2 classes\n"
     ]
    }
   ],
   "source": [
    "from opensoundscape.torch.architectures.cnn_architectures import alexnet\n",
    "from opensoundscape.torch.models.cnn import PytorchModel\n",
    "\n",
    "#initialize the AlexNet architecture\n",
    "arch = alexnet(num_classes=2, use_pretrained=False)\n",
    "\n",
    "#generate a model object with this architecture\n",
    "model = PytorchModel(architecture=arch, classes=['negative','positive'])"
   ]
  },
  {
   "cell_type": "markdown",
   "metadata": {
    "tags": []
   },
   "source": [
    "### Changing the architecture of an existing model\n",
    "Even after initializing a model with an architecture, we can change it by replacing the model's `.network`:"
   ]
  },
  {
   "cell_type": "code",
   "execution_count": 17,
   "metadata": {},
   "outputs": [],
   "source": [
    "from opensoundscape.torch.architectures.cnn_architectures import densenet121\n",
    "\n",
    "#initialize the AlexNet architecture\n",
    "arch = densenet121(num_classes=2, use_pretrained=False)\n",
    "\n",
    "# replace the alexnet architecture with the densenet architecture\n",
    "model.network = arch"
   ]
  },
  {
   "cell_type": "markdown",
   "metadata": {},
   "source": [
    "### Use a custom-built architecture\n",
    "\n",
    "You can also build a custom architecture and initialize a PytorchModel model with it, or replace a model's `.network` with your custom architecture. \n",
    "\n",
    "For example, we can use the `architectures.resnet` module to build the ResNet50 architecture (just for demonstration - we could also simply create this architecture using the `resnet50()` function in the `cnn_architectures` module)."
   ]
  },
  {
   "cell_type": "code",
   "execution_count": 18,
   "metadata": {},
   "outputs": [
    {
     "name": "stdout",
     "output_type": "stream",
     "text": [
      "created PytorchModel model object with 2 classes\n",
      "number of layers:\n",
      "50\n"
     ]
    }
   ],
   "source": [
    "# import a module that builds ResNet architecture from scratch\n",
    "from opensoundscape.torch.architectures.resnet import ResNetArchitecture\n",
    "\n",
    "#initialize the ResNet50 architecture\n",
    "net=ResNetArchitecture(\n",
    "    num_cls=2,\n",
    "    weights_init='ImageNet',\n",
    "    num_layers=50,\n",
    ")\n",
    "\n",
    "#generate a regular resnet18 object\n",
    "model = Resnet18Multiclass(classes=['negative','positive'])\n",
    "\n",
    "#replace the model's network with the ResNet50 architecture\n",
    "model.network = net\n",
    "\n",
    "print('number of layers:')\n",
    "print(model.network.num_layers)"
   ]
  },
  {
   "cell_type": "markdown",
   "metadata": {},
   "source": [
    "## Sampling for imbalanced training data\n",
    "The imbalanced data sampler will help to ensure that a single batch contains only a few classes during training, and that the classes will recieve approximately equal representation within the batch. This is useful for _imbalanced_ training data (when some classes have far fewer training samples than others). "
   ]
  },
  {
   "cell_type": "code",
   "execution_count": 19,
   "metadata": {},
   "outputs": [
    {
     "name": "stdout",
     "output_type": "stream",
     "text": [
      "created PytorchModel model object with 2 classes\n",
      "\n",
      "Best Model Appears at Epoch 0 with F1 0.000.\n",
      "sampler:\n"
     ]
    },
    {
     "data": {
      "text/plain": [
       "<opensoundscape.torch.sampling.ImbalancedDatasetSampler at 0x7f7f08312d90>"
      ]
     },
     "execution_count": 19,
     "metadata": {},
     "output_type": "execute_result"
    }
   ],
   "source": [
    "model = Resnet18Binary(classes)\n",
    "model.sampler = 'imbalanced' #default is None\n",
    "\n",
    "#...you can now train your model as normal\n",
    "model.train(train_dataset, valid_dataset, epochs=0)\n",
    "\n",
    "#once we run train(), we can see that the train_loader is using an ImbalancedDatasetSampler\n",
    "print('sampler:')\n",
    "model.train_loader.sampler"
   ]
  },
  {
   "cell_type": "markdown",
   "metadata": {},
   "source": [
    "## Training with custom preprocessors\n",
    "The preprocessing tutorial gives in-depth descriptions of how to customize your preprocessing pipeline.\n",
    "\n",
    "Here, we'll just give a quick example of tweaking the preprocessing pipeline: providing the CNN with a bandpassed spectrogram object instead of the full frequency range. "
   ]
  },
  {
   "cell_type": "markdown",
   "metadata": {},
   "source": [
    "### Bandpassed spectrograms"
   ]
  },
  {
   "cell_type": "code",
   "execution_count": 20,
   "metadata": {},
   "outputs": [
    {
     "name": "stdout",
     "output_type": "stream",
     "text": [
      "created PytorchModel model object with 2 classes\n",
      "\n",
      "Best Model Appears at Epoch 0 with F1 0.000.\n"
     ]
    }
   ],
   "source": [
    "model = Resnet18Binary(classes)\n",
    "\n",
    "# turn on the bandpass action of the datasets\n",
    "train_dataset.actions.bandpass.on()\n",
    "valid_dataset.actions.bandpass.on()\n",
    "\n",
    "# specify the min and max frequencies for the bandpass action\n",
    "train_dataset.actions.bandpass.set(min_f=3000, max_f=5000)\n",
    "valid_dataset.actions.bandpass.set(min_f=3000, max_f=5000)\n",
    "\n",
    "# now we can train and validate on the bandpassed spectrograms\n",
    "# don't forget that you'll need to apply the same bandpass actions to \n",
    "# any datasets that you use for predicting on new audio files \n",
    "model.train(train_dataset, valid_dataset, epochs=0)"
   ]
  },
  {
   "cell_type": "markdown",
   "metadata": {},
   "source": [
    "### clean up\n",
    "remove files"
   ]
  },
  {
   "cell_type": "code",
   "execution_count": 21,
   "metadata": {},
   "outputs": [],
   "source": [
    "import shutil\n",
    "shutil.rmtree('./woodcock_labeled_data')\n",
    "\n",
    "for p in Path('.').glob('*.model'):\n",
    "    p.unlink()"
   ]
  }
 ],
 "metadata": {
  "kernelspec": {
   "display_name": "OpSoPoetry",
   "language": "python",
   "name": "opensoundscape-ayasfgeb-py3.8"
  },
  "language_info": {
   "codemirror_mode": {
    "name": "ipython",
    "version": 3
   },
   "file_extension": ".py",
   "mimetype": "text/x-python",
   "name": "python",
   "nbconvert_exporter": "python",
   "pygments_lexer": "ipython3",
   "version": "3.8.10"
  }
 },
 "nbformat": 4,
 "nbformat_minor": 4
}
