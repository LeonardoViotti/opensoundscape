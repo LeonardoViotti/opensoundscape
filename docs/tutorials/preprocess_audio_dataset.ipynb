{
 "cells": [
  {
   "cell_type": "markdown",
   "id": "922448ef-b731-4b71-b1bf-f00756353c18",
   "metadata": {},
   "source": [
    "# Preprocess audio dataset\n",
    "\n",
    "## Run this tutorial\n",
    "\n",
    "This tutorial is more than a reference! It's a Jupyter Notebook which you can run and modify on Google Colab or your own computer.\n",
    "\n",
    "|Link to tutorial|How to run tutorial|\n",
    "| :- | :- |\n",
    "| [![Open In Colab](https://colab.research.google.com/assets/colab-badge.svg)](https://colab.research.google.com/github/kitzeslab/opensoundscape/blob/master/docs/tutorials/preprocess_audio_dataset.ipynb) | The link opens the tutorial in Google Colab. Uncomment the \"installation\" line in the first cell to install OpenSoundscape. |\n",
    "| [![Download via DownGit](https://img.shields.io/badge/GitHub-Download-teal?logo=github)](https://minhaskamal.github.io/DownGit/#/home?url=https://github.com/kitzeslab/opensoundscape/blob/master/docs/tutorials/preprocess_audio_dataset.ipynb) | The link downloads the tutorial file to your computer. Follow the [Jupyter installation instructions](https://opensoundscape.org/en/latest/installation/jupyter.html), then open the tutorial file in Jupyter. |"
   ]
  },
  {
   "cell_type": "code",
   "execution_count": null,
   "id": "2ebe88c2-f086-4d26-a943-4391e33f7e83",
   "metadata": {},
   "outputs": [],
   "source": [
    "# Uncomment the next line to download OpenSoundscape for use in Google Colab\n",
    "#!pip install opensoundscape"
   ]
  },
  {
   "cell_type": "code",
   "execution_count": null,
   "id": "b02b8352-77d0-41cf-b34f-a5f580470936",
   "metadata": {},
   "outputs": [],
   "source": []
  }
 ],
 "metadata": {
  "kernelspec": {
   "display_name": "opso-dev",
   "language": "python",
   "name": "opso-dev"
  },
  "language_info": {
   "codemirror_mode": {
    "name": "ipython",
    "version": 3
   },
   "file_extension": ".py",
   "mimetype": "text/x-python",
   "name": "python",
   "nbconvert_exporter": "python",
   "pygments_lexer": "ipython3",
   "version": "3.9.16"
  }
 },
 "nbformat": 4,
 "nbformat_minor": 5
}
