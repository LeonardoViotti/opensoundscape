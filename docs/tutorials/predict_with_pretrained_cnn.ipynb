{
 "cells": [
  {
   "cell_type": "markdown",
   "metadata": {},
   "source": [
    "# Prediction with pre-trained CNNs\n",
    "This notebook contains all the code you need to use a pre-trained OpenSoundscape convolutional neural network model (CNN) to make predictions on your own data. Before attempting this tutorial, install OpenSoundscape by following the instructions on the OpenSoundscape website, [opensoundscape.org](http://opensoundscape.org/). More detailed tutorials about data preprocessing, training CNNs, and customizing prediction methods can also be found on this site."
   ]
  },
  {
   "cell_type": "markdown",
   "metadata": {},
   "source": [
    "## Load required packages\n",
    "\n",
    "We will load several imports from OpenSoundscape. First, load the `AudiotoSpectrogramPreprocessor` class from the `preprocess.preprocessors` module. Preprocessor classes are used to load, transform, and augment audio samples for use in a machine learning model. "
   ]
  },
  {
   "cell_type": "code",
   "execution_count": 23,
   "metadata": {},
   "outputs": [],
   "source": [
    "from opensoundscape.preprocess.preprocessors import AudioToSpectrogramPreprocessor"
   ]
  },
  {
   "cell_type": "markdown",
   "metadata": {},
   "source": [
    "Second, the `cnn` module provides classes for training and prediction with various structures of CNNs. For this example, load the `Resnet18Binary` class, used for models made with the Resnet18 architecture for predicting the presence or absence of a species (a \"binary\" classifier)."
   ]
  },
  {
   "cell_type": "code",
   "execution_count": 24,
   "metadata": {},
   "outputs": [],
   "source": [
    "# The cnn module provides classes for training/predicting with various types of CNNs\n",
    "from opensoundscape.torch.models.cnn import Resnet18Binary"
   ]
  },
  {
   "cell_type": "markdown",
   "metadata": {},
   "source": [
    "Finally, load some additional packages and perform some setup for the Jupyter notebook."
   ]
  },
  {
   "cell_type": "code",
   "execution_count": 25,
   "metadata": {},
   "outputs": [],
   "source": [
    "# Other utilities and packages\n",
    "import torch\n",
    "from pathlib import Path\n",
    "import numpy as np\n",
    "import pandas as pd\n",
    "from glob import glob\n",
    "import subprocess"
   ]
  },
  {
   "cell_type": "code",
   "execution_count": 26,
   "metadata": {},
   "outputs": [],
   "source": [
    "#set up plotting\n",
    "from matplotlib import pyplot as plt\n",
    "plt.rcParams['figure.figsize']=[15,5] #for large visuals\n",
    "%config InlineBackend.figure_format = 'retina'"
   ]
  },
  {
   "cell_type": "markdown",
   "metadata": {},
   "source": [
    "## Prepare audio data for prediction\n",
    "\n",
    "To run predictions on your audio data, you will need to have your audio already split up into the clip lengths that the model expects to receive. If your audio data are not already split, see the demonstration of the `Audio.split()` method in the `audio_and_spectrogram` notebook.\n",
    "\n",
    "You can check the length of clips that the model to receives in the model's notes when you download it. This is often, but not always, 5.0 seconds."
   ]
  },
  {
   "cell_type": "markdown",
   "metadata": {},
   "source": [
    "### Download audio files\n",
    "\n",
    "The Kitzes Lab has created a small labeled dataset of short clips of American Woodcock vocalizations. You have two options for obtaining the folder of data, called `woodcock_labeled_data`:\n",
    "\n",
    "1. Run the following cell to download this small dataset. These commands require you to have `curl` and `tar` installed on your computer, as they will download and unzip a compressed file in `.tar.gz` format. \n",
    "\n",
    "2. OR download a `.zip` version of the files by clicking [here](https://pitt.box.com/shared/static/m0cmzebkr5qc49q9egxnrwwp50wi8zu5.zip). You will have to unzip this folder and place the unzipped folder in the same folder that this notebook is in.\n",
    "\n",
    "**Note**: Once you have the data, you do not need to run this cell again."
   ]
  },
  {
   "cell_type": "code",
   "execution_count": 27,
   "metadata": {},
   "outputs": [
    {
     "data": {
      "text/plain": [
       "CompletedProcess(args=['rm', 'woodcock_labeled_data.tar.gz'], returncode=0)"
      ]
     },
     "execution_count": 27,
     "metadata": {},
     "output_type": "execute_result"
    }
   ],
   "source": [
    "subprocess.run(['curl','https://pitt.box.com/shared/static/79fi7d715dulcldsy6uogz02rsn5uesd.gz','-L', '-o','woodcock_labeled_data.tar.gz']) # Download the data\n",
    "subprocess.run([\"tar\",\"-xzf\", \"woodcock_labeled_data.tar.gz\"]) # Unzip the downloaded tar.gz file\n",
    "subprocess.run([\"rm\", \"woodcock_labeled_data.tar.gz\"]) # Remove the file after its contents are unzipped"
   ]
  },
  {
   "cell_type": "markdown",
   "metadata": {},
   "source": [
    "### Generate a Preprocessor object\n",
    "\n",
    "In addition to having audio clips of the correct length, you will need to create a Preprocessor object that loads audio samples for the CNN. \n",
    "\n",
    "First, generate a Pandas DataFrame with the index containing the paths to each file, as shown below."
   ]
  },
  {
   "cell_type": "code",
   "execution_count": 28,
   "metadata": {},
   "outputs": [],
   "source": [
    "# collect a list of audio files\n",
    "file_list = glob('./woodcock_labeled_data/*.wav')\n",
    "\n",
    "# create a DataFrame with the audio files as the index\n",
    "audio_file_df = pd.DataFrame(index=file_list)"
   ]
  },
  {
   "cell_type": "markdown",
   "metadata": {},
   "source": [
    "Next, use that DataFrame to create a Preprocessor object suitable for your application. Use the argument `return_labels=False`, as our audio to predict on does not have labels.\n",
    "\n",
    "If the model was trained with any special preprocesor settings, you should apply those settings here. For pretrained models created by the Kitzes Lab, see the model's notes from its download page for the exact code to use here."
   ]
  },
  {
   "cell_type": "code",
   "execution_count": 29,
   "metadata": {},
   "outputs": [],
   "source": [
    "# create a Preprocessor object \n",
    "# we use the option \"return_labels=False\" because our audio to predict on does not have labels\n",
    "from opensoundscape.preprocess.preprocessors import AudioToSpectrogramPreprocessor\n",
    "prediction_dataset = AudioToSpectrogramPreprocessor(audio_file_df, return_labels=False)"
   ]
  },
  {
   "cell_type": "markdown",
   "metadata": {},
   "source": [
    "## Models trained with OpenSoundscape v0.5.x\n",
    "Check the model notes page for the appropriate model class to use and import the correct class from the `cnn` module."
   ]
  },
  {
   "cell_type": "code",
   "execution_count": 30,
   "metadata": {},
   "outputs": [],
   "source": [
    "from opensoundscape.torch.models.cnn import Resnet18Binary"
   ]
  },
  {
   "cell_type": "markdown",
   "metadata": {},
   "source": [
    "For the purpose of demonstration, let's generate a new Resnet18 model for binary prediction and save it to our local folder. This is a dummy model that will not be trained using any data and will thus not make meaningful predictions.\n",
    "\n",
    "If you download a pre-trained model, you can skip this cell."
   ]
  },
  {
   "cell_type": "code",
   "execution_count": 31,
   "metadata": {},
   "outputs": [
    {
     "name": "stdout",
     "output_type": "stream",
     "text": [
      "created PytorchModel model object with 2 classes\n",
      "Saving to demo.model\n"
     ]
    }
   ],
   "source": [
    "model = Resnet18Binary(classes=['absent','present'])\n",
    "model.save('./demo.model')"
   ]
  },
  {
   "cell_type": "code",
   "execution_count": 32,
   "metadata": {},
   "outputs": [],
   "source": [
    "from opensoundscape.torch.models.cnn import PytorchModel"
   ]
  },
  {
   "cell_type": "markdown",
   "metadata": {},
   "source": [
    "Next, provide the model class's `from_checkpoint()` method with the path to your downloaded model."
   ]
  },
  {
   "cell_type": "code",
   "execution_count": 33,
   "metadata": {},
   "outputs": [
    {
     "name": "stdout",
     "output_type": "stream",
     "text": [
      "created PytorchModel model object with 2 classes\n",
      "loading weights from saved object\n"
     ]
    }
   ],
   "source": [
    "# load the model into the appropriate model class\n",
    "model = Resnet18Binary.from_checkpoint('./demo.model')"
   ]
  },
  {
   "cell_type": "markdown",
   "metadata": {},
   "source": [
    "Generate predictions as follows. The `predict` method returns three arguments: scores, thresholded predictions, and labels. For unthresholded prediction on unlabeled data, only the first one is relevant, so we can discard the other returns using `scores, _, _`."
   ]
  },
  {
   "cell_type": "code",
   "execution_count": 34,
   "metadata": {},
   "outputs": [
    {
     "name": "stdout",
     "output_type": "stream",
     "text": [
      "(29, 2)\n"
     ]
    }
   ],
   "source": [
    "# call model.predict() with the Preprocessor to generate predictions\n",
    "scores, _, _ = model.predict(prediction_dataset)"
   ]
  },
  {
   "cell_type": "markdown",
   "metadata": {},
   "source": [
    "Look at the scores of the first 5 samples. These scores may be anything from negative to positive infinity."
   ]
  },
  {
   "cell_type": "code",
   "execution_count": 35,
   "metadata": {},
   "outputs": [
    {
     "data": {
      "text/html": [
       "<div>\n",
       "<style scoped>\n",
       "    .dataframe tbody tr th:only-of-type {\n",
       "        vertical-align: middle;\n",
       "    }\n",
       "\n",
       "    .dataframe tbody tr th {\n",
       "        vertical-align: top;\n",
       "    }\n",
       "\n",
       "    .dataframe thead th {\n",
       "        text-align: right;\n",
       "    }\n",
       "</style>\n",
       "<table border=\"1\" class=\"dataframe\">\n",
       "  <thead>\n",
       "    <tr style=\"text-align: right;\">\n",
       "      <th></th>\n",
       "      <th>absent</th>\n",
       "      <th>present</th>\n",
       "    </tr>\n",
       "  </thead>\n",
       "  <tbody>\n",
       "    <tr>\n",
       "      <th>./woodcock_labeled_data/6a83b011665c482c1f260d8e111aa81c.wav</th>\n",
       "      <td>0.484657</td>\n",
       "      <td>0.382294</td>\n",
       "    </tr>\n",
       "    <tr>\n",
       "      <th>./woodcock_labeled_data/0d043e9954d9d80ca2c3e86055e94487.wav</th>\n",
       "      <td>0.593123</td>\n",
       "      <td>0.313045</td>\n",
       "    </tr>\n",
       "    <tr>\n",
       "      <th>./woodcock_labeled_data/78654b6f687d7635f50fba3546c7bdfa.wav</th>\n",
       "      <td>0.616126</td>\n",
       "      <td>0.423048</td>\n",
       "    </tr>\n",
       "    <tr>\n",
       "      <th>./woodcock_labeled_data/863095c237c52ec51cff7395d70cee41.wav</th>\n",
       "      <td>0.287727</td>\n",
       "      <td>0.352490</td>\n",
       "    </tr>\n",
       "    <tr>\n",
       "      <th>./woodcock_labeled_data/e84a4b60a4f2d049d73162ee99a7ead8.wav</th>\n",
       "      <td>0.442259</td>\n",
       "      <td>0.363902</td>\n",
       "    </tr>\n",
       "  </tbody>\n",
       "</table>\n",
       "</div>"
      ],
      "text/plain": [
       "                                                      absent   present\n",
       "./woodcock_labeled_data/6a83b011665c482c1f260d8...  0.484657  0.382294\n",
       "./woodcock_labeled_data/0d043e9954d9d80ca2c3e86...  0.593123  0.313045\n",
       "./woodcock_labeled_data/78654b6f687d7635f50fba3...  0.616126  0.423048\n",
       "./woodcock_labeled_data/863095c237c52ec51cff739...  0.287727  0.352490\n",
       "./woodcock_labeled_data/e84a4b60a4f2d049d73162e...  0.442259  0.363902"
      ]
     },
     "execution_count": 35,
     "metadata": {},
     "output_type": "execute_result"
    }
   ],
   "source": [
    "#look at the scores of the first 5 samples\n",
    "scores.head()"
   ]
  },
  {
   "cell_type": "markdown",
   "metadata": {},
   "source": [
    "### Options for prediction"
   ]
  },
  {
   "cell_type": "markdown",
   "metadata": {},
   "source": [
    "The code above returns the raw predictions of the model without any post-processing (such as a softmax layer or a sigmoid layer). \n",
    "\n",
    "For details on how to use the `predict()` function for post-processing of predictions and to generate binary 0/1 predictions of class presence, see the \"Basic training and prediction with CNNs\" tutorial notebook. But, as a quick example, let's add a softmax layer to make the prediction scores for both classes sum to 1. We can also use the `binary_preds` argument to generate 0/1 predictions for each sample and class. For presence/absence models, use the option `binary_preds='single_target'`. For multi-class models, think about whether each clip should be labeled with only one class (single target) or whether each clip could contain multiple classes (`binary_preds='multi_target'`)"
   ]
  },
  {
   "cell_type": "code",
   "execution_count": 36,
   "metadata": {},
   "outputs": [
    {
     "name": "stdout",
     "output_type": "stream",
     "text": [
      "(29, 2)\n"
     ]
    }
   ],
   "source": [
    "scores, binary_predictions, _ = model.predict(\n",
    "    prediction_dataset,\n",
    "    activation_layer='softmax',\n",
    "    binary_preds='single_target'\n",
    ")"
   ]
  },
  {
   "cell_type": "markdown",
   "metadata": {},
   "source": [
    "As before, the `scores` are continuous variables, but now have been softmaxed:"
   ]
  },
  {
   "cell_type": "code",
   "execution_count": 37,
   "metadata": {},
   "outputs": [
    {
     "data": {
      "text/html": [
       "<div>\n",
       "<style scoped>\n",
       "    .dataframe tbody tr th:only-of-type {\n",
       "        vertical-align: middle;\n",
       "    }\n",
       "\n",
       "    .dataframe tbody tr th {\n",
       "        vertical-align: top;\n",
       "    }\n",
       "\n",
       "    .dataframe thead th {\n",
       "        text-align: right;\n",
       "    }\n",
       "</style>\n",
       "<table border=\"1\" class=\"dataframe\">\n",
       "  <thead>\n",
       "    <tr style=\"text-align: right;\">\n",
       "      <th></th>\n",
       "      <th>absent</th>\n",
       "      <th>present</th>\n",
       "    </tr>\n",
       "  </thead>\n",
       "  <tbody>\n",
       "    <tr>\n",
       "      <th>./woodcock_labeled_data/6a83b011665c482c1f260d8e111aa81c.wav</th>\n",
       "      <td>0.525568</td>\n",
       "      <td>0.474432</td>\n",
       "    </tr>\n",
       "    <tr>\n",
       "      <th>./woodcock_labeled_data/0d043e9954d9d80ca2c3e86055e94487.wav</th>\n",
       "      <td>0.569565</td>\n",
       "      <td>0.430435</td>\n",
       "    </tr>\n",
       "    <tr>\n",
       "      <th>./woodcock_labeled_data/78654b6f687d7635f50fba3546c7bdfa.wav</th>\n",
       "      <td>0.548120</td>\n",
       "      <td>0.451880</td>\n",
       "    </tr>\n",
       "    <tr>\n",
       "      <th>./woodcock_labeled_data/863095c237c52ec51cff7395d70cee41.wav</th>\n",
       "      <td>0.483815</td>\n",
       "      <td>0.516185</td>\n",
       "    </tr>\n",
       "    <tr>\n",
       "      <th>./woodcock_labeled_data/e84a4b60a4f2d049d73162ee99a7ead8.wav</th>\n",
       "      <td>0.519579</td>\n",
       "      <td>0.480421</td>\n",
       "    </tr>\n",
       "  </tbody>\n",
       "</table>\n",
       "</div>"
      ],
      "text/plain": [
       "                                                      absent   present\n",
       "./woodcock_labeled_data/6a83b011665c482c1f260d8...  0.525568  0.474432\n",
       "./woodcock_labeled_data/0d043e9954d9d80ca2c3e86...  0.569565  0.430435\n",
       "./woodcock_labeled_data/78654b6f687d7635f50fba3...  0.548120  0.451880\n",
       "./woodcock_labeled_data/863095c237c52ec51cff739...  0.483815  0.516185\n",
       "./woodcock_labeled_data/e84a4b60a4f2d049d73162e...  0.519579  0.480421"
      ]
     },
     "execution_count": 37,
     "metadata": {},
     "output_type": "execute_result"
    }
   ],
   "source": [
    "scores.head()"
   ]
  },
  {
   "cell_type": "markdown",
   "metadata": {},
   "source": [
    "We also have an additional output, the binary 0/1 (\"absent\" vs \"present\") predictions generated by the model:"
   ]
  },
  {
   "cell_type": "code",
   "execution_count": 38,
   "metadata": {},
   "outputs": [
    {
     "data": {
      "text/html": [
       "<div>\n",
       "<style scoped>\n",
       "    .dataframe tbody tr th:only-of-type {\n",
       "        vertical-align: middle;\n",
       "    }\n",
       "\n",
       "    .dataframe tbody tr th {\n",
       "        vertical-align: top;\n",
       "    }\n",
       "\n",
       "    .dataframe thead th {\n",
       "        text-align: right;\n",
       "    }\n",
       "</style>\n",
       "<table border=\"1\" class=\"dataframe\">\n",
       "  <thead>\n",
       "    <tr style=\"text-align: right;\">\n",
       "      <th></th>\n",
       "      <th>absent</th>\n",
       "      <th>present</th>\n",
       "    </tr>\n",
       "  </thead>\n",
       "  <tbody>\n",
       "    <tr>\n",
       "      <th>./woodcock_labeled_data/6a83b011665c482c1f260d8e111aa81c.wav</th>\n",
       "      <td>1.0</td>\n",
       "      <td>0.0</td>\n",
       "    </tr>\n",
       "    <tr>\n",
       "      <th>./woodcock_labeled_data/0d043e9954d9d80ca2c3e86055e94487.wav</th>\n",
       "      <td>1.0</td>\n",
       "      <td>0.0</td>\n",
       "    </tr>\n",
       "    <tr>\n",
       "      <th>./woodcock_labeled_data/78654b6f687d7635f50fba3546c7bdfa.wav</th>\n",
       "      <td>1.0</td>\n",
       "      <td>0.0</td>\n",
       "    </tr>\n",
       "    <tr>\n",
       "      <th>./woodcock_labeled_data/863095c237c52ec51cff7395d70cee41.wav</th>\n",
       "      <td>0.0</td>\n",
       "      <td>1.0</td>\n",
       "    </tr>\n",
       "    <tr>\n",
       "      <th>./woodcock_labeled_data/e84a4b60a4f2d049d73162ee99a7ead8.wav</th>\n",
       "      <td>1.0</td>\n",
       "      <td>0.0</td>\n",
       "    </tr>\n",
       "  </tbody>\n",
       "</table>\n",
       "</div>"
      ],
      "text/plain": [
       "                                                    absent  present\n",
       "./woodcock_labeled_data/6a83b011665c482c1f260d8...     1.0      0.0\n",
       "./woodcock_labeled_data/0d043e9954d9d80ca2c3e86...     1.0      0.0\n",
       "./woodcock_labeled_data/78654b6f687d7635f50fba3...     1.0      0.0\n",
       "./woodcock_labeled_data/863095c237c52ec51cff739...     0.0      1.0\n",
       "./woodcock_labeled_data/e84a4b60a4f2d049d73162e...     1.0      0.0"
      ]
     },
     "execution_count": 38,
     "metadata": {},
     "output_type": "execute_result"
    }
   ],
   "source": [
    "binary_predictions.head()"
   ]
  },
  {
   "cell_type": "markdown",
   "metadata": {},
   "source": [
    "It is often helpful to look at a histogram of the scores for the positive class. Because this dummy model had random weights, we would expect this histogram to center somewhere around 0.5."
   ]
  },
  {
   "cell_type": "code",
   "execution_count": 39,
   "metadata": {},
   "outputs": [
    {
     "data": {
      "image/png": "[encoded data removed]",
      "text/plain": [
       "<Figure size 1080x360 with 1 Axes>"
      ]
     },
     "metadata": {
      "image/png": {
       "height": 316,
       "width": 864
      },
      "needs_background": "light"
     },
     "output_type": "display_data"
    }
   ],
   "source": [
    "_ = plt.hist(scores['present'],bins=20)\n",
    "_ = plt.xlabel('softmax score for positive class')"
   ]
  },
  {
   "cell_type": "markdown",
   "metadata": {},
   "source": [
    "## Prediction on long (un-split) audio files\n",
    "\n",
    "It's also possible to run predictions on long audio files. In this case, OpenSoundscape will internally split the audio into short segments during prediction. The input and output of prediction is slightly different in this case:\n",
    "- Input is similar to before: a dataframe with the index containing the paths to audio files\n",
    "- Output is still a dataframe, but it will have three \"index\" columns. The first matches the index of the input, and contains the audio file paths. The second and third index columns contain the \"begin\" and \"end\" time of clips relative to the start of the audio file. The remaining columns, as usual, contain the names of each class and the scores or predictions for each class for that row's audio clip. \n",
    "\n",
    "Let's look at an example. We'll use the 1 minute audio file contained within OpenSoundscape's test folder as a \"long\" audio file. In practice, you can split files that are multiple hours long - the limiting factor is your computer's memory (\"RAM\"), which must be able to hold the entire audio file. "
   ]
  },
  {
   "cell_type": "code",
   "execution_count": 40,
   "metadata": {},
   "outputs": [],
   "source": [
    "import opensoundscape\n",
    "from opensoundscape.preprocess.preprocessors import LongAudioPreprocessor\n",
    "\n",
    "#get audio path from opensoundscape's tests folder\n",
    "audio_1m_path = Path(opensoundscape.__file__).parent.parent.joinpath('tests/audio/1min.wav')\n",
    "long_audio_prediction_df = pd.DataFrame(index=[audio_1m_path])\n",
    "img_shape = [224,224]\n",
    "\n",
    "#the audio will be split during prediction. choose the clip length and overlap of sequential clips (0 for no overlap)\n",
    "clip_length = 5.0\n",
    "clip_overlap = 0.0\n",
    "long_audio_prediction_ds = LongAudioPreprocessor(\n",
    "    long_audio_prediction_df,\n",
    "    audio_length=clip_length, \n",
    "    clip_overlap=clip_overlap, \n",
    "    out_shape=img_shape, \n",
    ")\n"
   ]
  },
  {
   "cell_type": "markdown",
   "metadata": {},
   "source": [
    "in addition to the scores (and potentially, predictions) the function returns a list of \"unsafe\" samples that caused errors during preprocessing. "
   ]
  },
  {
   "cell_type": "code",
   "execution_count": 41,
   "metadata": {},
   "outputs": [
    {
     "data": {
      "text/html": [
       "<div>\n",
       "<style scoped>\n",
       "    .dataframe tbody tr th:only-of-type {\n",
       "        vertical-align: middle;\n",
       "    }\n",
       "\n",
       "    .dataframe tbody tr th {\n",
       "        vertical-align: top;\n",
       "    }\n",
       "\n",
       "    .dataframe thead th {\n",
       "        text-align: right;\n",
       "    }\n",
       "</style>\n",
       "<table border=\"1\" class=\"dataframe\">\n",
       "  <thead>\n",
       "    <tr style=\"text-align: right;\">\n",
       "      <th></th>\n",
       "      <th></th>\n",
       "      <th></th>\n",
       "      <th>absent</th>\n",
       "      <th>present</th>\n",
       "    </tr>\n",
       "    <tr>\n",
       "      <th>file</th>\n",
       "      <th>start_time</th>\n",
       "      <th>end_time</th>\n",
       "      <th></th>\n",
       "      <th></th>\n",
       "    </tr>\n",
       "  </thead>\n",
       "  <tbody>\n",
       "    <tr>\n",
       "      <th rowspan=\"5\" valign=\"top\">/home/louisfh/Development/opensoundscape/tests/audio/1min.wav</th>\n",
       "      <th>0.0</th>\n",
       "      <th>5.0</th>\n",
       "      <td>0.784139</td>\n",
       "      <td>0.027767</td>\n",
       "    </tr>\n",
       "    <tr>\n",
       "      <th>5.0</th>\n",
       "      <th>10.0</th>\n",
       "      <td>0.402279</td>\n",
       "      <td>-0.030964</td>\n",
       "    </tr>\n",
       "    <tr>\n",
       "      <th>10.0</th>\n",
       "      <th>15.0</th>\n",
       "      <td>0.854899</td>\n",
       "      <td>0.172253</td>\n",
       "    </tr>\n",
       "    <tr>\n",
       "      <th>15.0</th>\n",
       "      <th>20.0</th>\n",
       "      <td>0.626625</td>\n",
       "      <td>0.354499</td>\n",
       "    </tr>\n",
       "    <tr>\n",
       "      <th>20.0</th>\n",
       "      <th>25.0</th>\n",
       "      <td>0.757906</td>\n",
       "      <td>0.259789</td>\n",
       "    </tr>\n",
       "  </tbody>\n",
       "</table>\n",
       "</div>"
      ],
      "text/plain": [
       "                                                                          absent  \\\n",
       "file                                               start_time end_time             \n",
       "/home/louisfh/Development/opensoundscape/tests/... 0.0        5.0       0.784139   \n",
       "                                                   5.0        10.0      0.402279   \n",
       "                                                   10.0       15.0      0.854899   \n",
       "                                                   15.0       20.0      0.626625   \n",
       "                                                   20.0       25.0      0.757906   \n",
       "\n",
       "                                                                         present  \n",
       "file                                               start_time end_time            \n",
       "/home/louisfh/Development/opensoundscape/tests/... 0.0        5.0       0.027767  \n",
       "                                                   5.0        10.0     -0.030964  \n",
       "                                                   10.0       15.0      0.172253  \n",
       "                                                   15.0       20.0      0.354499  \n",
       "                                                   20.0       25.0      0.259789  "
      ]
     },
     "execution_count": 41,
     "metadata": {},
     "output_type": "execute_result"
    }
   ],
   "source": [
    "score_df, pred_df, unsafe_samples = model.split_and_predict(\n",
    "    long_audio_prediction_ds,\n",
    "    file_batch_size=1,\n",
    "    num_workers=0,\n",
    "    activation_layer=None,\n",
    "    binary_preds='single_target',\n",
    "    threshold=0.5,\n",
    "    clip_batch_size=4,\n",
    "    error_log=None,\n",
    ")\n",
    "score_df.head()"
   ]
  },
  {
   "cell_type": "markdown",
   "metadata": {},
   "source": [
    "## Models trained with OpenSoundscape 0.4.x\n",
    "One set of our publicly availably [binary models for 500 species](https://pitt.app.box.com/s/3048856qbm9x55yi3zfksa3fide5uuf4) was created with an older version of OpenSoundscape. These models require a little bit of manipulation to load into OpenSoundscape 0.5.x and onward.\n",
    "\n",
    "First, let's download one of these models (it's stored in a .tar format) and save it to the same directory as this notebook in a file called `opso_04_model_acanthis-flammea.tar`"
   ]
  },
  {
   "cell_type": "code",
   "execution_count": 42,
   "metadata": {},
   "outputs": [
    {
     "data": {
      "text/plain": [
       "CompletedProcess(args=['curl', 'https://pitt.box.com/shared/static/lglpty35omjhmq6cdz8cfudm43nn2t9f.tar', '-L', '-o', 'opso_04_model_acanthis-flammea.tar'], returncode=0)"
      ]
     },
     "execution_count": 42,
     "metadata": {},
     "output_type": "execute_result"
    }
   ],
   "source": [
    "subprocess.run(['curl',\n",
    "               'https://pitt.box.com/shared/static/lglpty35omjhmq6cdz8cfudm43nn2t9f.tar', \n",
    "                '-L', '-o', 'opso_04_model_acanthis-flammea.tar'])"
   ]
  },
  {
   "cell_type": "markdown",
   "metadata": {},
   "source": [
    "Next, load the weights from that model into an OpenSoundscape model object with the following code:"
   ]
  },
  {
   "cell_type": "code",
   "execution_count": 43,
   "metadata": {},
   "outputs": [
    {
     "name": "stdout",
     "output_type": "stream",
     "text": [
      "created PytorchModel model object with 2 classes\n"
     ]
    },
    {
     "data": {
      "text/plain": [
       "<All keys matched successfully>"
      ]
     },
     "execution_count": 43,
     "metadata": {},
     "output_type": "execute_result"
    }
   ],
   "source": [
    "from opensoundscape.torch.models.cnn import PytorchModel\n",
    "from opensoundscape.torch.architectures.cnn_architectures import resnet18\n",
    "import torch\n",
    "\n",
    "# load the tar file into a dictionary \n",
    "# (you could change this to the location of any .tar file on your computer)\n",
    "opso_04_model_tar_path = \"./opso_04_model_acanthis-flammea.tar\"\n",
    "opso_04_model_dict = torch.load(opso_04_model_tar_path)\n",
    "\n",
    "# create a resnet18 binary model \n",
    "# (all models created with Opensoundscape 0.4.x are 2-class resnet18 architectures)\n",
    "architecture = resnet18(num_classes=2,use_pretrained=False)\n",
    "model = PytorchModel(classes=['negative','positive'],architecture=architecture)\n",
    "\n",
    "# load the model weights into our model object\n",
    "# now, our model is equivalent to the trained model we downloaded\n",
    "model.network.load_state_dict(opso_04_model_dict['model_state_dict'])"
   ]
  },
  {
   "cell_type": "markdown",
   "metadata": {},
   "source": [
    "Now, we can use the model as normal to create predictions on audio. We'll use the same `prediction_dataset` from above (which does not contain any Common redpoll).\n",
    "\n",
    "Remember to choose the `activation_layer` you desire. In this example, we'll assume we just want to generate scores, not binary predictions. We'll apply a softmax layer, then the logit transform, to the scores using the `activation_layer=\"softmax_and_logit\"` option. This will generate the type of scores that are useful for plotting score histograms, among other things. "
   ]
  },
  {
   "cell_type": "code",
   "execution_count": 44,
   "metadata": {},
   "outputs": [
    {
     "name": "stdout",
     "output_type": "stream",
     "text": [
      "(29, 2)\n"
     ]
    },
    {
     "data": {
      "text/html": [
       "<div>\n",
       "<style scoped>\n",
       "    .dataframe tbody tr th:only-of-type {\n",
       "        vertical-align: middle;\n",
       "    }\n",
       "\n",
       "    .dataframe tbody tr th {\n",
       "        vertical-align: top;\n",
       "    }\n",
       "\n",
       "    .dataframe thead th {\n",
       "        text-align: right;\n",
       "    }\n",
       "</style>\n",
       "<table border=\"1\" class=\"dataframe\">\n",
       "  <thead>\n",
       "    <tr style=\"text-align: right;\">\n",
       "      <th></th>\n",
       "      <th>negative</th>\n",
       "      <th>positive</th>\n",
       "    </tr>\n",
       "  </thead>\n",
       "  <tbody>\n",
       "    <tr>\n",
       "      <th>./woodcock_labeled_data/6a83b011665c482c1f260d8e111aa81c.wav</th>\n",
       "      <td>0.998181</td>\n",
       "      <td>0.001819</td>\n",
       "    </tr>\n",
       "    <tr>\n",
       "      <th>./woodcock_labeled_data/0d043e9954d9d80ca2c3e86055e94487.wav</th>\n",
       "      <td>0.999854</td>\n",
       "      <td>0.000145</td>\n",
       "    </tr>\n",
       "    <tr>\n",
       "      <th>./woodcock_labeled_data/78654b6f687d7635f50fba3546c7bdfa.wav</th>\n",
       "      <td>0.998935</td>\n",
       "      <td>0.001065</td>\n",
       "    </tr>\n",
       "    <tr>\n",
       "      <th>./woodcock_labeled_data/863095c237c52ec51cff7395d70cee41.wav</th>\n",
       "      <td>0.999816</td>\n",
       "      <td>0.000184</td>\n",
       "    </tr>\n",
       "    <tr>\n",
       "      <th>./woodcock_labeled_data/e84a4b60a4f2d049d73162ee99a7ead8.wav</th>\n",
       "      <td>0.995471</td>\n",
       "      <td>0.004529</td>\n",
       "    </tr>\n",
       "  </tbody>\n",
       "</table>\n",
       "</div>"
      ],
      "text/plain": [
       "                                                    negative  positive\n",
       "./woodcock_labeled_data/6a83b011665c482c1f260d8...  0.998181  0.001819\n",
       "./woodcock_labeled_data/0d043e9954d9d80ca2c3e86...  0.999854  0.000145\n",
       "./woodcock_labeled_data/78654b6f687d7635f50fba3...  0.998935  0.001065\n",
       "./woodcock_labeled_data/863095c237c52ec51cff739...  0.999816  0.000184\n",
       "./woodcock_labeled_data/e84a4b60a4f2d049d73162e...  0.995471  0.004529"
      ]
     },
     "execution_count": 44,
     "metadata": {},
     "output_type": "execute_result"
    }
   ],
   "source": [
    "# generate predictions on our dataset\n",
    "predition_scores_df,_,_ = model.predict(prediction_dataset, activation_layer='softmax')\n",
    "predition_scores_df.head()"
   ]
  },
  {
   "cell_type": "markdown",
   "metadata": {},
   "source": [
    "Remove the downloaded files to clean up."
   ]
  },
  {
   "cell_type": "code",
   "execution_count": 45,
   "metadata": {},
   "outputs": [],
   "source": [
    "folder = Path('./woodcock_labeled_data')\n",
    "[p.unlink() for p in folder.glob(\"*\")]\n",
    "folder.rmdir()\n",
    "for p in Path('.').glob('*.model'):\n",
    "    p.unlink()\n",
    "for p in Path('.').glob('*.tar'):\n",
    "    p.unlink()"
   ]
  }
 ],
 "metadata": {
  "kernelspec": {
   "display_name": "OpSoPoetry",
   "language": "python",
   "name": "opensoundscape-ayasfgeb-py3.8"
  },
  "language_info": {
   "codemirror_mode": {
    "name": "ipython",
    "version": 3
   },
   "file_extension": ".py",
   "mimetype": "text/x-python",
   "name": "python",
   "nbconvert_exporter": "python",
   "pygments_lexer": "ipython3",
   "version": "3.8.10"
  }
 },
 "nbformat": 4,
 "nbformat_minor": 4
}
