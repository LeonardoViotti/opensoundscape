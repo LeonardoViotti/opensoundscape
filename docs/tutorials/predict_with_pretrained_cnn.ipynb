{
 "cells": [
  {
   "cell_type": "markdown",
   "metadata": {},
   "source": [
    "# Prediction with pre-trained CNNs\n",
    "This notebook contains all the code you need to use a pre-trained OpenSoundscape convolutional neural network model (CNN) to make predictions on your own data. Before attempting this tutorial, install OpenSoundscape by following the instructions on the OpenSoundscape website, [opensoundscape.org](http://opensoundscape.org/). More detailed tutorials about data preprocessing, training CNNs, and customizing prediction methods can also be found on this site."
   ]
  },
  {
   "cell_type": "markdown",
   "metadata": {},
   "source": [
    "## Load required packages\n",
    "\n",
    "We will load several imports from OpenSoundscape. First, load the `AudiotoSpectrogramPreprocessor` class from the `preprocess.preprocessors` module. Preprocessor classes are used to load, transform, and augment audio samples for use in a machine learning model. "
   ]
  },
  {
   "cell_type": "code",
   "execution_count": 1,
   "metadata": {},
   "outputs": [],
   "source": [
    "from opensoundscape.preprocess.preprocessors import AudioToSpectrogramPreprocessor"
   ]
  },
  {
   "cell_type": "markdown",
   "metadata": {},
   "source": [
    "Second, the `cnn` module provides classes for training and prediction with various structures of CNNs. For this example, load the `Resnet18Binary` class, used for models made with the Resnet18 architecture for predicting the presence or absence of a species (a \"binary\" classifier)."
   ]
  },
  {
   "cell_type": "code",
   "execution_count": 2,
   "metadata": {},
   "outputs": [],
   "source": [
    "# The cnn module provides classes for training/predicting with various types of CNNs\n",
    "from opensoundscape.torch.models.cnn import Resnet18Binary"
   ]
  },
  {
   "cell_type": "markdown",
   "metadata": {},
   "source": [
    "Finally, load some additional packages and perform some setup for the Jupyter notebook."
   ]
  },
  {
   "cell_type": "code",
   "execution_count": 3,
   "metadata": {},
   "outputs": [],
   "source": [
    "# Other utilities and packages\n",
    "import torch\n",
    "from pathlib import Path\n",
    "import numpy as np\n",
    "import pandas as pd\n",
    "from glob import glob\n",
    "import subprocess"
   ]
  },
  {
   "cell_type": "code",
   "execution_count": 4,
   "metadata": {},
   "outputs": [],
   "source": [
    "#set up plotting\n",
    "from matplotlib import pyplot as plt\n",
    "plt.rcParams['figure.figsize']=[15,5] #for large visuals\n",
    "%config InlineBackend.figure_format = 'retina'"
   ]
  },
  {
   "cell_type": "markdown",
   "metadata": {},
   "source": [
    "## Prepare audio data for prediction\n",
    "\n",
    "To run predictions on your audio data, you will need to have your audio already split up into the clip lengths that the model expects to receive. If your audio data are not already split, see the demonstration of the `Audio.split()` method in the `audio_and_spectrogram` notebook.\n",
    "\n",
    "You can check the length of clips that the model to receives in the model's notes when you download it. This is often, but not always, 5.0 seconds."
   ]
  },
  {
   "cell_type": "markdown",
   "metadata": {},
   "source": [
    "### Download audio files\n",
    "\n",
    "The Kitzes Lab has created a small labeled dataset of short clips of American Woodcock vocalizations. You have two options for obtaining the folder of data, called `woodcock_labeled_data`:\n",
    "\n",
    "1. Run the following cell to download this small dataset. These commands require you to have `curl` and `tar` installed on your computer, as they will download and unzip a compressed file in `.tar.gz` format. \n",
    "\n",
    "2. OR download a `.zip` version of the files by clicking [here](https://pitt.box.com/shared/static/m0cmzebkr5qc49q9egxnrwwp50wi8zu5.zip). You will have to unzip this folder and place the unzipped folder in the same folder that this notebook is in.\n",
    "\n",
    "**Note**: Once you have the data, you do not need to run this cell again."
   ]
  },
  {
   "cell_type": "code",
   "execution_count": 5,
   "metadata": {},
   "outputs": [
    {
     "name": "stderr",
     "output_type": "stream",
     "text": [
      "  % Total    % Received % Xferd  Average Speed   Time    Time     Time  Current\n",
      "                                 Dload  Upload   Total   Spent    Left  Speed\n",
      "  0     0    0     0    0     0      0      0 --:--:-- --:--:-- --:--:--     0\n",
      "  0     0    0     0    0     0      0      0 --:--:-- --:--:-- --:--:--     0\n",
      "100     7    0     7    0     0      7      0 --:--:-- --:--:-- --:--:--     7\n",
      "100 4031k  100 4031k    0     0  1682k      0  0:00:02  0:00:02 --:--:-- 3948k\n"
     ]
    },
    {
     "data": {
      "text/plain": [
       "CompletedProcess(args=['rm', 'woodcock_labeled_data.tar.gz'], returncode=0)"
      ]
     },
     "execution_count": 5,
     "metadata": {},
     "output_type": "execute_result"
    }
   ],
   "source": [
    "subprocess.run(['curl','https://pitt.box.com/shared/static/79fi7d715dulcldsy6uogz02rsn5uesd.gz','-L', '-o','woodcock_labeled_data.tar.gz']) # Download the data\n",
    "subprocess.run([\"tar\",\"-xzf\", \"woodcock_labeled_data.tar.gz\"]) # Unzip the downloaded tar.gz file\n",
    "subprocess.run([\"rm\", \"woodcock_labeled_data.tar.gz\"]) # Remove the file after its contents are unzipped"
   ]
  },
  {
   "cell_type": "markdown",
   "metadata": {},
   "source": [
    "### Generate a Preprocessor object\n",
    "\n",
    "In addition to having audio clips of the correct length, you will need to create a Preprocessor object that loads audio samples for the CNN. \n",
    "\n",
    "First, generate a Pandas DataFrame with the index containing the paths to each file, as shown below."
   ]
  },
  {
   "cell_type": "code",
   "execution_count": 6,
   "metadata": {},
   "outputs": [],
   "source": [
    "# collect a list of audio files\n",
    "file_list = glob('./woodcock_labeled_data/*.wav')\n",
    "\n",
    "# create a DataFrame with the audio files as the index\n",
    "audio_file_df = pd.DataFrame(index=file_list)"
   ]
  },
  {
   "cell_type": "markdown",
   "metadata": {},
   "source": [
    "Next, use that DataFrame to create a Preprocessor object suitable for your application. Use the argument `return_labels=False`, as our audio to predict on does not have labels.\n",
    "\n",
    "If the model was trained with any special preprocesor settings, you should apply those settings here. For pretrained models created by the Kitzes Lab, see the model's notes from its download page for the exact code to use here."
   ]
  },
  {
   "cell_type": "code",
   "execution_count": 7,
   "metadata": {},
   "outputs": [],
   "source": [
    "# create a Preprocessor object \n",
    "# we use the option \"return_labels=False\" because our audio to predict on does not have labels\n",
    "from opensoundscape.preprocess.preprocessors import AudioToSpectrogramPreprocessor\n",
    "prediction_dataset = AudioToSpectrogramPreprocessor(audio_file_df, return_labels=False)"
   ]
  },
  {
   "cell_type": "markdown",
   "metadata": {},
   "source": [
    "## Models trained with OpenSoundscape v0.5.x and above\n",
    "Check the model notes page for the appropriate model class to use and import the correct class from the `cnn` module."
   ]
  },
  {
   "cell_type": "code",
   "execution_count": 8,
   "metadata": {},
   "outputs": [],
   "source": [
    "from opensoundscape.torch.models.cnn import Resnet18Binary"
   ]
  },
  {
   "cell_type": "markdown",
   "metadata": {},
   "source": [
    "For the purpose of demonstration, let's generate a new Resnet18 model for binary prediction and save it to our local folder. This is a dummy model that will not be trained using any data and will thus not make meaningful predictions.\n",
    "\n",
    "If you download a pre-trained model, you can skip this cell."
   ]
  },
  {
   "cell_type": "code",
   "execution_count": 9,
   "metadata": {},
   "outputs": [
    {
     "name": "stdout",
     "output_type": "stream",
     "text": [
      "created PytorchModel model object with 2 classes\n",
      "Saving to demo.model\n"
     ]
    }
   ],
   "source": [
    "model = Resnet18Binary(classes=['absent','present'])\n",
    "model.save('./demo.model')"
   ]
  },
  {
   "cell_type": "code",
   "execution_count": 10,
   "metadata": {},
   "outputs": [],
   "source": [
    "from opensoundscape.torch.models.cnn import PytorchModel"
   ]
  },
  {
   "cell_type": "markdown",
   "metadata": {},
   "source": [
    "Next, provide the model class's `from_checkpoint()` method with the path to your downloaded model."
   ]
  },
  {
   "cell_type": "code",
   "execution_count": 11,
   "metadata": {},
   "outputs": [
    {
     "name": "stdout",
     "output_type": "stream",
     "text": [
      "created PytorchModel model object with 2 classes\n",
      "loading weights from saved object\n"
     ]
    }
   ],
   "source": [
    "# load the model into the appropriate model class\n",
    "model = Resnet18Binary.from_checkpoint('./demo.model')"
   ]
  },
  {
   "cell_type": "markdown",
   "metadata": {},
   "source": [
    "Generate predictions as follows. The `predict` method returns three arguments: scores, thresholded predictions, and labels. For unthresholded prediction on unlabeled data, only the first one is relevant, so we can discard the other returns using `scores, _, _`."
   ]
  },
  {
   "cell_type": "code",
   "execution_count": 12,
   "metadata": {},
   "outputs": [
    {
     "name": "stdout",
     "output_type": "stream",
     "text": [
      "(29, 2)\n"
     ]
    }
   ],
   "source": [
    "# call model.predict() with the Preprocessor to generate predictions\n",
    "scores, _, _ = model.predict(prediction_dataset)"
   ]
  },
  {
   "cell_type": "markdown",
   "metadata": {},
   "source": [
    "Look at the scores of the first 5 samples. These scores may be anything from negative to positive infinity."
   ]
  },
  {
   "cell_type": "code",
   "execution_count": 13,
   "metadata": {},
   "outputs": [
    {
     "data": {
      "text/html": [
       "<div>\n",
       "<style scoped>\n",
       "    .dataframe tbody tr th:only-of-type {\n",
       "        vertical-align: middle;\n",
       "    }\n",
       "\n",
       "    .dataframe tbody tr th {\n",
       "        vertical-align: top;\n",
       "    }\n",
       "\n",
       "    .dataframe thead th {\n",
       "        text-align: right;\n",
       "    }\n",
       "</style>\n",
       "<table border=\"1\" class=\"dataframe\">\n",
       "  <thead>\n",
       "    <tr style=\"text-align: right;\">\n",
       "      <th></th>\n",
       "      <th>absent</th>\n",
       "      <th>present</th>\n",
       "    </tr>\n",
       "  </thead>\n",
       "  <tbody>\n",
       "    <tr>\n",
       "      <th>./woodcock_labeled_data/d4c40b6066b489518f8da83af1ee4984.wav</th>\n",
       "      <td>0.970459</td>\n",
       "      <td>-0.622744</td>\n",
       "    </tr>\n",
       "    <tr>\n",
       "      <th>./woodcock_labeled_data/e84a4b60a4f2d049d73162ee99a7ead8.wav</th>\n",
       "      <td>0.894215</td>\n",
       "      <td>-0.192513</td>\n",
       "    </tr>\n",
       "    <tr>\n",
       "      <th>./woodcock_labeled_data/79678c979ebb880d5ed6d56f26ba69ff.wav</th>\n",
       "      <td>0.921353</td>\n",
       "      <td>-0.223057</td>\n",
       "    </tr>\n",
       "    <tr>\n",
       "      <th>./woodcock_labeled_data/49890077267b569e142440fa39b3041c.wav</th>\n",
       "      <td>0.898475</td>\n",
       "      <td>-0.475426</td>\n",
       "    </tr>\n",
       "    <tr>\n",
       "      <th>./woodcock_labeled_data/0c453a87185d8c7ce05c5c5ac5d525dc.wav</th>\n",
       "      <td>1.026837</td>\n",
       "      <td>-0.321966</td>\n",
       "    </tr>\n",
       "  </tbody>\n",
       "</table>\n",
       "</div>"
      ],
      "text/plain": [
       "                                                      absent   present\n",
       "./woodcock_labeled_data/d4c40b6066b489518f8da83...  0.970459 -0.622744\n",
       "./woodcock_labeled_data/e84a4b60a4f2d049d73162e...  0.894215 -0.192513\n",
       "./woodcock_labeled_data/79678c979ebb880d5ed6d56...  0.921353 -0.223057\n",
       "./woodcock_labeled_data/49890077267b569e142440f...  0.898475 -0.475426\n",
       "./woodcock_labeled_data/0c453a87185d8c7ce05c5c5...  1.026837 -0.321966"
      ]
     },
     "execution_count": 13,
     "metadata": {},
     "output_type": "execute_result"
    }
   ],
   "source": [
    "#look at the scores of the first 5 samples\n",
    "scores.head()"
   ]
  },
  {
   "cell_type": "markdown",
   "metadata": {},
   "source": [
    "### Options for prediction"
   ]
  },
  {
   "cell_type": "markdown",
   "metadata": {},
   "source": [
    "The code above returns the raw predictions of the model without any post-processing (such as a softmax layer or a sigmoid layer). \n",
    "\n",
    "For details on how to use the `predict()` function for post-processing of predictions and to generate binary 0/1 predictions of class presence, see the \"Basic training and prediction with CNNs\" tutorial notebook. But, as a quick example, let's add a softmax layer to make the prediction scores for both classes sum to 1. We can also use the `binary_preds` argument to generate 0/1 predictions for each sample and class. For presence/absence models, use the option `binary_preds='single_target'`. For multi-class models, think about whether each clip should be labeled with only one class (single target) or whether each clip could contain multiple classes (`binary_preds='multi_target'`)"
   ]
  },
  {
   "cell_type": "code",
   "execution_count": 14,
   "metadata": {},
   "outputs": [
    {
     "name": "stdout",
     "output_type": "stream",
     "text": [
      "(29, 2)\n"
     ]
    }
   ],
   "source": [
    "scores, binary_predictions, _ = model.predict(\n",
    "    prediction_dataset,\n",
    "    activation_layer='softmax',\n",
    "    binary_preds='single_target'\n",
    ")"
   ]
  },
  {
   "cell_type": "markdown",
   "metadata": {},
   "source": [
    "As before, the `scores` are continuous variables, but now have been softmaxed:"
   ]
  },
  {
   "cell_type": "code",
   "execution_count": 15,
   "metadata": {},
   "outputs": [
    {
     "data": {
      "text/html": [
       "<div>\n",
       "<style scoped>\n",
       "    .dataframe tbody tr th:only-of-type {\n",
       "        vertical-align: middle;\n",
       "    }\n",
       "\n",
       "    .dataframe tbody tr th {\n",
       "        vertical-align: top;\n",
       "    }\n",
       "\n",
       "    .dataframe thead th {\n",
       "        text-align: right;\n",
       "    }\n",
       "</style>\n",
       "<table border=\"1\" class=\"dataframe\">\n",
       "  <thead>\n",
       "    <tr style=\"text-align: right;\">\n",
       "      <th></th>\n",
       "      <th>absent</th>\n",
       "      <th>present</th>\n",
       "    </tr>\n",
       "  </thead>\n",
       "  <tbody>\n",
       "    <tr>\n",
       "      <th>./woodcock_labeled_data/d4c40b6066b489518f8da83af1ee4984.wav</th>\n",
       "      <td>0.831066</td>\n",
       "      <td>0.168934</td>\n",
       "    </tr>\n",
       "    <tr>\n",
       "      <th>./woodcock_labeled_data/e84a4b60a4f2d049d73162ee99a7ead8.wav</th>\n",
       "      <td>0.747765</td>\n",
       "      <td>0.252235</td>\n",
       "    </tr>\n",
       "    <tr>\n",
       "      <th>./woodcock_labeled_data/79678c979ebb880d5ed6d56f26ba69ff.wav</th>\n",
       "      <td>0.758488</td>\n",
       "      <td>0.241512</td>\n",
       "    </tr>\n",
       "    <tr>\n",
       "      <th>./woodcock_labeled_data/49890077267b569e142440fa39b3041c.wav</th>\n",
       "      <td>0.798010</td>\n",
       "      <td>0.201990</td>\n",
       "    </tr>\n",
       "    <tr>\n",
       "      <th>./woodcock_labeled_data/0c453a87185d8c7ce05c5c5ac5d525dc.wav</th>\n",
       "      <td>0.793934</td>\n",
       "      <td>0.206066</td>\n",
       "    </tr>\n",
       "  </tbody>\n",
       "</table>\n",
       "</div>"
      ],
      "text/plain": [
       "                                                      absent   present\n",
       "./woodcock_labeled_data/d4c40b6066b489518f8da83...  0.831066  0.168934\n",
       "./woodcock_labeled_data/e84a4b60a4f2d049d73162e...  0.747765  0.252235\n",
       "./woodcock_labeled_data/79678c979ebb880d5ed6d56...  0.758488  0.241512\n",
       "./woodcock_labeled_data/49890077267b569e142440f...  0.798010  0.201990\n",
       "./woodcock_labeled_data/0c453a87185d8c7ce05c5c5...  0.793934  0.206066"
      ]
     },
     "execution_count": 15,
     "metadata": {},
     "output_type": "execute_result"
    }
   ],
   "source": [
    "scores.head()"
   ]
  },
  {
   "cell_type": "markdown",
   "metadata": {},
   "source": [
    "We also have an additional output, the binary 0/1 (\"absent\" vs \"present\") predictions generated by the model:"
   ]
  },
  {
   "cell_type": "code",
   "execution_count": 16,
   "metadata": {},
   "outputs": [
    {
     "data": {
      "text/html": [
       "<div>\n",
       "<style scoped>\n",
       "    .dataframe tbody tr th:only-of-type {\n",
       "        vertical-align: middle;\n",
       "    }\n",
       "\n",
       "    .dataframe tbody tr th {\n",
       "        vertical-align: top;\n",
       "    }\n",
       "\n",
       "    .dataframe thead th {\n",
       "        text-align: right;\n",
       "    }\n",
       "</style>\n",
       "<table border=\"1\" class=\"dataframe\">\n",
       "  <thead>\n",
       "    <tr style=\"text-align: right;\">\n",
       "      <th></th>\n",
       "      <th>absent</th>\n",
       "      <th>present</th>\n",
       "    </tr>\n",
       "  </thead>\n",
       "  <tbody>\n",
       "    <tr>\n",
       "      <th>./woodcock_labeled_data/d4c40b6066b489518f8da83af1ee4984.wav</th>\n",
       "      <td>1.0</td>\n",
       "      <td>0.0</td>\n",
       "    </tr>\n",
       "    <tr>\n",
       "      <th>./woodcock_labeled_data/e84a4b60a4f2d049d73162ee99a7ead8.wav</th>\n",
       "      <td>1.0</td>\n",
       "      <td>0.0</td>\n",
       "    </tr>\n",
       "    <tr>\n",
       "      <th>./woodcock_labeled_data/79678c979ebb880d5ed6d56f26ba69ff.wav</th>\n",
       "      <td>1.0</td>\n",
       "      <td>0.0</td>\n",
       "    </tr>\n",
       "    <tr>\n",
       "      <th>./woodcock_labeled_data/49890077267b569e142440fa39b3041c.wav</th>\n",
       "      <td>1.0</td>\n",
       "      <td>0.0</td>\n",
       "    </tr>\n",
       "    <tr>\n",
       "      <th>./woodcock_labeled_data/0c453a87185d8c7ce05c5c5ac5d525dc.wav</th>\n",
       "      <td>1.0</td>\n",
       "      <td>0.0</td>\n",
       "    </tr>\n",
       "  </tbody>\n",
       "</table>\n",
       "</div>"
      ],
      "text/plain": [
       "                                                    absent  present\n",
       "./woodcock_labeled_data/d4c40b6066b489518f8da83...     1.0      0.0\n",
       "./woodcock_labeled_data/e84a4b60a4f2d049d73162e...     1.0      0.0\n",
       "./woodcock_labeled_data/79678c979ebb880d5ed6d56...     1.0      0.0\n",
       "./woodcock_labeled_data/49890077267b569e142440f...     1.0      0.0\n",
       "./woodcock_labeled_data/0c453a87185d8c7ce05c5c5...     1.0      0.0"
      ]
     },
     "execution_count": 16,
     "metadata": {},
     "output_type": "execute_result"
    }
   ],
   "source": [
    "binary_predictions.head()"
   ]
  },
  {
   "cell_type": "markdown",
   "metadata": {},
   "source": [
    "It is often helpful to look at a histogram of the scores for the positive class. Because this dummy model had random weights, we would expect this histogram to center somewhere around 0.5."
   ]
  },
  {
   "cell_type": "code",
   "execution_count": 17,
   "metadata": {},
   "outputs": [
    {
     "data": {
      "image/png": "[encoded data removed]",
      "text/plain": [
       "<Figure size 1080x360 with 1 Axes>"
      ]
     },
     "metadata": {
      "image/png": {
       "height": 316,
       "width": 874
      },
      "needs_background": "light"
     },
     "output_type": "display_data"
    }
   ],
   "source": [
    "_ = plt.hist(scores['present'],bins=20)\n",
    "_ = plt.xlabel('softmax score for positive class')"
   ]
  },
  {
   "cell_type": "markdown",
   "metadata": {},
   "source": [
    "## Prediction on long (un-split) audio files\n",
    "\n",
    "It's also possible to run predictions on long audio files. In this case, OpenSoundscape will internally split the audio into short segments during prediction. The input and output of prediction is slightly different in this case:\n",
    "- Input is a dataframe containing file paths as the index, with columns for `start_time` and `end_time` of each clip that should be used as a sample for predictions\n",
    "- Output only contains the file paths, but has multiple entries for file. You must re-add the temporal information. \n",
    "\n",
    "still a dataframe, but it will have three \"index\" columns. The first matches the index of the input, and contains the audio file paths. The second and third index columns contain the \"begin\" and \"end\" time of clips relative to the start of the audio file. The remaining columns, as usual, contain the names of each class and the scores or predictions for each class for that row's audio clip. \n",
    "\n",
    "Let's look at an example. We'll use the 1 minute audio file contained within OpenSoundscape's test folder as a \"long\" audio file. In practice you can easily split very long (eg 3 hour) files without any additional overhead. "
   ]
  },
  {
   "cell_type": "code",
   "execution_count": 18,
   "metadata": {},
   "outputs": [],
   "source": [
    "import opensoundscape\n",
    "from opensoundscape.preprocess.preprocessors import ClipLoadingSpectrogramPreprocessor\n",
    "from pathlib import Path\n",
    "import pandas as pd\n",
    "\n",
    "#get audio path from opensoundscape's tests folder\n",
    "audio_1m_path = Path(opensoundscape.__file__).parent.parent.joinpath('tests/audio/1min.wav')\n",
    "\n",
    "\n",
    "#generate a dataframe that lists the clip times for each audio path\n",
    "from opensoundscape.helpers import generate_clip_times_df\n",
    "import librosa\n",
    "clip_dfs = []\n",
    "files = [audio_1m_path]\n",
    "clip_length = 5.0\n",
    "clip_overlap = 0.0\n",
    "for f in files:\n",
    "    t = librosa.get_duration(filename=f)\n",
    "    clips = generate_clip_times_df(t,clip_length,clip_overlap)     \n",
    "    clips.index = [f]*len(clips)\n",
    "    clips.index.name = 'file'\n",
    "    clip_dfs.append(clips)\n",
    "clip_dfs = pd.concat(clip_dfs)"
   ]
  },
  {
   "cell_type": "markdown",
   "metadata": {},
   "source": [
    "generate preprocessor"
   ]
  },
  {
   "cell_type": "code",
   "execution_count": 19,
   "metadata": {},
   "outputs": [],
   "source": [
    "preprocessor = ClipLoadingSpectrogramPreprocessor(clip_dfs)"
   ]
  },
  {
   "cell_type": "code",
   "execution_count": 20,
   "metadata": {},
   "outputs": [
    {
     "name": "stderr",
     "output_type": "stream",
     "text": [
      "/Users/SML161/opensoundscape/opensoundscape/torch/models/cnn.py:632: UserWarning: The columns of prediction_dataset.df differfrom model.classes\n",
      "  \"The columns of prediction_dataset.df differ\" \"from model.classes\"\n"
     ]
    },
    {
     "name": "stdout",
     "output_type": "stream",
     "text": [
      "(12, 2)\n"
     ]
    },
    {
     "data": {
      "text/html": [
       "<div>\n",
       "<style scoped>\n",
       "    .dataframe tbody tr th:only-of-type {\n",
       "        vertical-align: middle;\n",
       "    }\n",
       "\n",
       "    .dataframe tbody tr th {\n",
       "        vertical-align: top;\n",
       "    }\n",
       "\n",
       "    .dataframe thead th {\n",
       "        text-align: right;\n",
       "    }\n",
       "</style>\n",
       "<table border=\"1\" class=\"dataframe\">\n",
       "  <thead>\n",
       "    <tr style=\"text-align: right;\">\n",
       "      <th></th>\n",
       "      <th></th>\n",
       "      <th></th>\n",
       "      <th>absent</th>\n",
       "      <th>present</th>\n",
       "    </tr>\n",
       "    <tr>\n",
       "      <th>file</th>\n",
       "      <th>start_time</th>\n",
       "      <th>end_time</th>\n",
       "      <th></th>\n",
       "      <th></th>\n",
       "    </tr>\n",
       "  </thead>\n",
       "  <tbody>\n",
       "    <tr>\n",
       "      <th rowspan=\"12\" valign=\"top\">/Users/SML161/opensoundscape/tests/audio/1min.wav</th>\n",
       "      <th>0.0</th>\n",
       "      <th>5.0</th>\n",
       "      <td>1.063462</td>\n",
       "      <td>0.431290</td>\n",
       "    </tr>\n",
       "    <tr>\n",
       "      <th>5.0</th>\n",
       "      <th>10.0</th>\n",
       "      <td>0.621790</td>\n",
       "      <td>0.152131</td>\n",
       "    </tr>\n",
       "    <tr>\n",
       "      <th>10.0</th>\n",
       "      <th>15.0</th>\n",
       "      <td>0.686997</td>\n",
       "      <td>0.081881</td>\n",
       "    </tr>\n",
       "    <tr>\n",
       "      <th>15.0</th>\n",
       "      <th>20.0</th>\n",
       "      <td>0.641979</td>\n",
       "      <td>0.219291</td>\n",
       "    </tr>\n",
       "    <tr>\n",
       "      <th>20.0</th>\n",
       "      <th>25.0</th>\n",
       "      <td>0.830157</td>\n",
       "      <td>-0.128708</td>\n",
       "    </tr>\n",
       "    <tr>\n",
       "      <th>25.0</th>\n",
       "      <th>30.0</th>\n",
       "      <td>0.487957</td>\n",
       "      <td>-0.002815</td>\n",
       "    </tr>\n",
       "    <tr>\n",
       "      <th>30.0</th>\n",
       "      <th>35.0</th>\n",
       "      <td>0.582767</td>\n",
       "      <td>0.194452</td>\n",
       "    </tr>\n",
       "    <tr>\n",
       "      <th>35.0</th>\n",
       "      <th>40.0</th>\n",
       "      <td>0.679886</td>\n",
       "      <td>0.057393</td>\n",
       "    </tr>\n",
       "    <tr>\n",
       "      <th>40.0</th>\n",
       "      <th>45.0</th>\n",
       "      <td>0.953645</td>\n",
       "      <td>0.219515</td>\n",
       "    </tr>\n",
       "    <tr>\n",
       "      <th>45.0</th>\n",
       "      <th>50.0</th>\n",
       "      <td>0.571868</td>\n",
       "      <td>0.066121</td>\n",
       "    </tr>\n",
       "    <tr>\n",
       "      <th>50.0</th>\n",
       "      <th>55.0</th>\n",
       "      <td>0.446422</td>\n",
       "      <td>-0.050509</td>\n",
       "    </tr>\n",
       "    <tr>\n",
       "      <th>55.0</th>\n",
       "      <th>60.0</th>\n",
       "      <td>0.362575</td>\n",
       "      <td>0.029591</td>\n",
       "    </tr>\n",
       "  </tbody>\n",
       "</table>\n",
       "</div>"
      ],
      "text/plain": [
       "                                                                         absent  \\\n",
       "file                                              start_time end_time             \n",
       "/Users/SML161/opensoundscape/tests/audio/1min.wav 0.0        5.0       1.063462   \n",
       "                                                  5.0        10.0      0.621790   \n",
       "                                                  10.0       15.0      0.686997   \n",
       "                                                  15.0       20.0      0.641979   \n",
       "                                                  20.0       25.0      0.830157   \n",
       "                                                  25.0       30.0      0.487957   \n",
       "                                                  30.0       35.0      0.582767   \n",
       "                                                  35.0       40.0      0.679886   \n",
       "                                                  40.0       45.0      0.953645   \n",
       "                                                  45.0       50.0      0.571868   \n",
       "                                                  50.0       55.0      0.446422   \n",
       "                                                  55.0       60.0      0.362575   \n",
       "\n",
       "                                                                        present  \n",
       "file                                              start_time end_time            \n",
       "/Users/SML161/opensoundscape/tests/audio/1min.wav 0.0        5.0       0.431290  \n",
       "                                                  5.0        10.0      0.152131  \n",
       "                                                  10.0       15.0      0.081881  \n",
       "                                                  15.0       20.0      0.219291  \n",
       "                                                  20.0       25.0     -0.128708  \n",
       "                                                  25.0       30.0     -0.002815  \n",
       "                                                  30.0       35.0      0.194452  \n",
       "                                                  35.0       40.0      0.057393  \n",
       "                                                  40.0       45.0      0.219515  \n",
       "                                                  45.0       50.0      0.066121  \n",
       "                                                  50.0       55.0     -0.050509  \n",
       "                                                  55.0       60.0      0.029591  "
      ]
     },
     "execution_count": 20,
     "metadata": {},
     "output_type": "execute_result"
    }
   ],
   "source": [
    "score_df, _, _ = model.predict(preprocessor)\n",
    "\n",
    "#we need to re-add the time information about each of these clips\n",
    "score_df.index = pd.MultiIndex.from_arrays([clip_dfs.index,clip_dfs['start_time'],clip_dfs['end_time']])\n",
    "\n",
    "score_df"
   ]
  },
  {
   "cell_type": "markdown",
   "metadata": {},
   "source": [
    "## Deprecated: Using LongAudioPreprocessor to predict on long (un-split) audio files\n",
    "\n",
    "It's also possible to run predictions on long audio files by loading entire files and letting OpenSoundscape split them while predicting. This is deprecated in favor of the approach shown above and has high memory (RAM) requirements. In this case, OpenSoundscape will internally split the audio into short segments during prediction. The input and output of prediction is slightly different in this case:\n",
    "- Input is similar to regular prediction: a dataframe with the index containing the paths to audio files\n",
    "- Output is still a dataframe, but it will have three \"index\" columns. The first matches the index of the input, and contains the audio file paths. The second and third index columns contain the \"begin\" and \"end\" time of clips relative to the start of the audio file. The remaining columns, as usual, contain the names of each class and the scores or predictions for each class for that row's audio clip. \n",
    "\n",
    "Let's look at an example. We'll use the 1 minute audio file contained within OpenSoundscape's test folder as a \"long\" audio file. In practice, you can split files that are multiple hours long - the limiting factor is your computer's memory (\"RAM\"), which must be able to hold the entire audio file. "
   ]
  },
  {
   "cell_type": "code",
   "execution_count": 21,
   "metadata": {},
   "outputs": [
    {
     "name": "stderr",
     "output_type": "stream",
     "text": [
      "/Users/SML161/opt/miniconda3/envs/opso/lib/python3.7/site-packages/ipykernel_launcher.py:16: DeprecationWarning: Call to deprecated class LongAudioPreprocessor. (Use ClipLoadingSpectrogramPreprocessorfor similar functionality with lower memory requirements.) -- Deprecated since version 0.6.1.\n",
      "  app.launch_new_instance()\n"
     ]
    }
   ],
   "source": [
    "import opensoundscape\n",
    "from opensoundscape.preprocess.preprocessors import LongAudioPreprocessor\n",
    "\n",
    "#get audio path from opensoundscape's tests folder\n",
    "audio_1m_path = Path(opensoundscape.__file__).parent.parent.joinpath('tests/audio/1min.wav')\n",
    "long_audio_prediction_df = pd.DataFrame(index=[audio_1m_path])\n",
    "img_shape = [224,224]\n",
    "\n",
    "#the audio will be split during prediction. choose the clip length and overlap of sequential clips (0 for no overlap)\n",
    "clip_length = 5.0\n",
    "clip_overlap = 0.0\n",
    "long_audio_prediction_ds = LongAudioPreprocessor(\n",
    "    long_audio_prediction_df,\n",
    "    audio_length=clip_length, \n",
    "    clip_overlap=clip_overlap, \n",
    "    out_shape=img_shape, \n",
    ")\n"
   ]
  },
  {
   "cell_type": "markdown",
   "metadata": {},
   "source": [
    "in addition to the scores (and potentially, predictions) the function returns a list of \"unsafe\" samples that caused errors during preprocessing. "
   ]
  },
  {
   "cell_type": "code",
   "execution_count": 22,
   "metadata": {},
   "outputs": [
    {
     "name": "stderr",
     "output_type": "stream",
     "text": [
      "/Users/SML161/opt/miniconda3/envs/opso/lib/python3.7/site-packages/ipykernel_launcher.py:9: DeprecationWarning: Call to deprecated method split_and_predict. (Use ClipLoadingSpectrogramPreprocessorwith model.predict() for similar functionality but lower memory requirements.) -- Deprecated since version 0.6.1.\n",
      "  if __name__ == '__main__':\n"
     ]
    },
    {
     "data": {
      "text/html": [
       "<div>\n",
       "<style scoped>\n",
       "    .dataframe tbody tr th:only-of-type {\n",
       "        vertical-align: middle;\n",
       "    }\n",
       "\n",
       "    .dataframe tbody tr th {\n",
       "        vertical-align: top;\n",
       "    }\n",
       "\n",
       "    .dataframe thead th {\n",
       "        text-align: right;\n",
       "    }\n",
       "</style>\n",
       "<table border=\"1\" class=\"dataframe\">\n",
       "  <thead>\n",
       "    <tr style=\"text-align: right;\">\n",
       "      <th></th>\n",
       "      <th></th>\n",
       "      <th></th>\n",
       "      <th>absent</th>\n",
       "      <th>present</th>\n",
       "    </tr>\n",
       "    <tr>\n",
       "      <th>file</th>\n",
       "      <th>start_time</th>\n",
       "      <th>end_time</th>\n",
       "      <th></th>\n",
       "      <th></th>\n",
       "    </tr>\n",
       "  </thead>\n",
       "  <tbody>\n",
       "    <tr>\n",
       "      <th rowspan=\"5\" valign=\"top\">/Users/SML161/opensoundscape/tests/audio/1min.wav</th>\n",
       "      <th>0.0</th>\n",
       "      <th>5.0</th>\n",
       "      <td>1.063462</td>\n",
       "      <td>0.431290</td>\n",
       "    </tr>\n",
       "    <tr>\n",
       "      <th>5.0</th>\n",
       "      <th>10.0</th>\n",
       "      <td>0.621789</td>\n",
       "      <td>0.152131</td>\n",
       "    </tr>\n",
       "    <tr>\n",
       "      <th>10.0</th>\n",
       "      <th>15.0</th>\n",
       "      <td>0.686997</td>\n",
       "      <td>0.081881</td>\n",
       "    </tr>\n",
       "    <tr>\n",
       "      <th>15.0</th>\n",
       "      <th>20.0</th>\n",
       "      <td>0.641979</td>\n",
       "      <td>0.219291</td>\n",
       "    </tr>\n",
       "    <tr>\n",
       "      <th>20.0</th>\n",
       "      <th>25.0</th>\n",
       "      <td>0.830157</td>\n",
       "      <td>-0.128708</td>\n",
       "    </tr>\n",
       "  </tbody>\n",
       "</table>\n",
       "</div>"
      ],
      "text/plain": [
       "                                                                         absent  \\\n",
       "file                                              start_time end_time             \n",
       "/Users/SML161/opensoundscape/tests/audio/1min.wav 0.0        5.0       1.063462   \n",
       "                                                  5.0        10.0      0.621789   \n",
       "                                                  10.0       15.0      0.686997   \n",
       "                                                  15.0       20.0      0.641979   \n",
       "                                                  20.0       25.0      0.830157   \n",
       "\n",
       "                                                                        present  \n",
       "file                                              start_time end_time            \n",
       "/Users/SML161/opensoundscape/tests/audio/1min.wav 0.0        5.0       0.431290  \n",
       "                                                  5.0        10.0      0.152131  \n",
       "                                                  10.0       15.0      0.081881  \n",
       "                                                  15.0       20.0      0.219291  \n",
       "                                                  20.0       25.0     -0.128708  "
      ]
     },
     "execution_count": 22,
     "metadata": {},
     "output_type": "execute_result"
    }
   ],
   "source": [
    "score_df, pred_df, unsafe_samples = model.split_and_predict(\n",
    "    long_audio_prediction_ds,\n",
    "    file_batch_size=1,\n",
    "    num_workers=0,\n",
    "    activation_layer=None,\n",
    "    binary_preds='single_target',\n",
    "    threshold=0.5,\n",
    "    clip_batch_size=4,\n",
    "    error_log=None,\n",
    ")\n",
    "score_df.head()"
   ]
  },
  {
   "cell_type": "markdown",
   "metadata": {},
   "source": [
    "## Models trained with OpenSoundscape 0.4.x\n",
    "One set of our publicly availably [binary models for 500 species](https://pitt.app.box.com/s/3048856qbm9x55yi3zfksa3fide5uuf4) was created with an older version of OpenSoundscape. These models require a little bit of manipulation to load into OpenSoundscape 0.5.x and onward.\n",
    "\n",
    "First, let's download one of these models (it's stored in a .tar format) and save it to the same directory as this notebook in a file called `opso_04_model_acanthis-flammea.tar`"
   ]
  },
  {
   "cell_type": "code",
   "execution_count": 23,
   "metadata": {},
   "outputs": [
    {
     "name": "stderr",
     "output_type": "stream",
     "text": [
      "  % Total    % Received % Xferd  Average Speed   Time    Time     Time  Current\n",
      "                                 Dload  Upload   Total   Spent    Left  Speed\n",
      "  0     0    0     0    0     0      0      0 --:--:-- --:--:-- --:--:--     0\n",
      "  0     0    0     0    0     0      0      0 --:--:-- --:--:-- --:--:--     0\n",
      "100     8    0     8    0     0      6      0 --:--:--  0:00:01 --:--:--     0\n",
      "100 42.9M  100 42.9M    0     0  5079k      0  0:00:08  0:00:08 --:--:-- 8461k\n"
     ]
    },
    {
     "data": {
      "text/plain": [
       "CompletedProcess(args=['curl', 'https://pitt.box.com/shared/static/lglpty35omjhmq6cdz8cfudm43nn2t9f.tar', '-L', '-o', 'opso_04_model_acanthis-flammea.tar'], returncode=0)"
      ]
     },
     "execution_count": 23,
     "metadata": {},
     "output_type": "execute_result"
    }
   ],
   "source": [
    "subprocess.run(['curl',\n",
    "               'https://pitt.box.com/shared/static/lglpty35omjhmq6cdz8cfudm43nn2t9f.tar', \n",
    "                '-L', '-o', 'opso_04_model_acanthis-flammea.tar'])"
   ]
  },
  {
   "cell_type": "markdown",
   "metadata": {},
   "source": [
    "Next, load the weights from that model into an OpenSoundscape model object with the following code:"
   ]
  },
  {
   "cell_type": "code",
   "execution_count": 24,
   "metadata": {},
   "outputs": [
    {
     "name": "stdout",
     "output_type": "stream",
     "text": [
      "created PytorchModel model object with 2 classes\n"
     ]
    },
    {
     "data": {
      "text/plain": [
       "<All keys matched successfully>"
      ]
     },
     "execution_count": 24,
     "metadata": {},
     "output_type": "execute_result"
    }
   ],
   "source": [
    "from opensoundscape.torch.models.cnn import PytorchModel\n",
    "from opensoundscape.torch.architectures.cnn_architectures import resnet18\n",
    "import torch\n",
    "\n",
    "# load the tar file into a dictionary \n",
    "# (you could change this to the location of any .tar file on your computer)\n",
    "opso_04_model_tar_path = \"./opso_04_model_acanthis-flammea.tar\"\n",
    "opso_04_model_dict = torch.load(opso_04_model_tar_path)\n",
    "\n",
    "# create a resnet18 binary model \n",
    "# (all models created with Opensoundscape 0.4.x are 2-class resnet18 architectures)\n",
    "architecture = resnet18(num_classes=2,use_pretrained=False)\n",
    "model = PytorchModel(classes=['negative','positive'],architecture=architecture)\n",
    "\n",
    "# load the model weights into our model object\n",
    "# now, our model is equivalent to the trained model we downloaded\n",
    "model.network.load_state_dict(opso_04_model_dict['model_state_dict'])"
   ]
  },
  {
   "cell_type": "markdown",
   "metadata": {},
   "source": [
    "Now, we can use the model as normal to create predictions on audio. We'll use the same `prediction_dataset` from above (which does not contain any Common redpoll).\n",
    "\n",
    "Remember to choose the `activation_layer` you desire. In this example, we'll assume we just want to generate scores, not binary predictions. We'll apply a softmax layer, then the logit transform, to the scores using the `activation_layer=\"softmax_and_logit\"` option. This will generate the type of scores that are useful for plotting score histograms, among other things. "
   ]
  },
  {
   "cell_type": "code",
   "execution_count": 25,
   "metadata": {},
   "outputs": [
    {
     "name": "stdout",
     "output_type": "stream",
     "text": [
      "(29, 2)\n"
     ]
    },
    {
     "data": {
      "text/html": [
       "<div>\n",
       "<style scoped>\n",
       "    .dataframe tbody tr th:only-of-type {\n",
       "        vertical-align: middle;\n",
       "    }\n",
       "\n",
       "    .dataframe tbody tr th {\n",
       "        vertical-align: top;\n",
       "    }\n",
       "\n",
       "    .dataframe thead th {\n",
       "        text-align: right;\n",
       "    }\n",
       "</style>\n",
       "<table border=\"1\" class=\"dataframe\">\n",
       "  <thead>\n",
       "    <tr style=\"text-align: right;\">\n",
       "      <th></th>\n",
       "      <th>negative</th>\n",
       "      <th>positive</th>\n",
       "    </tr>\n",
       "  </thead>\n",
       "  <tbody>\n",
       "    <tr>\n",
       "      <th>./woodcock_labeled_data/d4c40b6066b489518f8da83af1ee4984.wav</th>\n",
       "      <td>0.999635</td>\n",
       "      <td>0.000365</td>\n",
       "    </tr>\n",
       "    <tr>\n",
       "      <th>./woodcock_labeled_data/e84a4b60a4f2d049d73162ee99a7ead8.wav</th>\n",
       "      <td>0.995471</td>\n",
       "      <td>0.004529</td>\n",
       "    </tr>\n",
       "    <tr>\n",
       "      <th>./woodcock_labeled_data/79678c979ebb880d5ed6d56f26ba69ff.wav</th>\n",
       "      <td>0.999205</td>\n",
       "      <td>0.000795</td>\n",
       "    </tr>\n",
       "    <tr>\n",
       "      <th>./woodcock_labeled_data/49890077267b569e142440fa39b3041c.wav</th>\n",
       "      <td>0.988181</td>\n",
       "      <td>0.011819</td>\n",
       "    </tr>\n",
       "    <tr>\n",
       "      <th>./woodcock_labeled_data/0c453a87185d8c7ce05c5c5ac5d525dc.wav</th>\n",
       "      <td>0.999559</td>\n",
       "      <td>0.000441</td>\n",
       "    </tr>\n",
       "  </tbody>\n",
       "</table>\n",
       "</div>"
      ],
      "text/plain": [
       "                                                    negative  positive\n",
       "./woodcock_labeled_data/d4c40b6066b489518f8da83...  0.999635  0.000365\n",
       "./woodcock_labeled_data/e84a4b60a4f2d049d73162e...  0.995471  0.004529\n",
       "./woodcock_labeled_data/79678c979ebb880d5ed6d56...  0.999205  0.000795\n",
       "./woodcock_labeled_data/49890077267b569e142440f...  0.988181  0.011819\n",
       "./woodcock_labeled_data/0c453a87185d8c7ce05c5c5...  0.999559  0.000441"
      ]
     },
     "execution_count": 25,
     "metadata": {},
     "output_type": "execute_result"
    }
   ],
   "source": [
    "# generate predictions on our dataset\n",
    "predition_scores_df,_,_ = model.predict(prediction_dataset, activation_layer='softmax')\n",
    "predition_scores_df.head()"
   ]
  },
  {
   "cell_type": "markdown",
   "metadata": {},
   "source": [
    "Remove the downloaded files to clean up."
   ]
  },
  {
   "cell_type": "code",
   "execution_count": 26,
   "metadata": {},
   "outputs": [],
   "source": [
    "folder = Path('./woodcock_labeled_data')\n",
    "[p.unlink() for p in folder.glob(\"*\")]\n",
    "folder.rmdir()\n",
    "for p in Path('.').glob('*.model'):\n",
    "    p.unlink()\n",
    "for p in Path('.').glob('*.tar'):\n",
    "    p.unlink()"
   ]
  }
 ],
 "metadata": {
  "kernelspec": {
   "display_name": "opso",
   "language": "python",
   "name": "opso"
  },
  "language_info": {
   "codemirror_mode": {
    "name": "ipython",
    "version": 3
   },
   "file_extension": ".py",
   "mimetype": "text/x-python",
   "name": "python",
   "nbconvert_exporter": "python",
   "pygments_lexer": "ipython3",
   "version": "3.7.11"
  }
 },
 "nbformat": 4,
 "nbformat_minor": 4
}
