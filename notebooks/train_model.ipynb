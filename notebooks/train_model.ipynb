{
 "cells": [
  {
   "cell_type": "code",
   "execution_count": 1,
   "metadata": {},
   "outputs": [],
   "source": [
    "%load_ext autoreload\n",
    "%autoreload 2"
   ]
  },
  {
   "cell_type": "code",
   "execution_count": 2,
   "metadata": {},
   "outputs": [
    {
     "name": "stderr",
     "output_type": "stream",
     "text": [
      "/Users/tessa/Library/Caches/pypoetry/virtualenvs/opensoundscape-dxMTH98s-py3.7/lib/python3.7/site-packages/librosa/util/decorators.py:9: NumbaDeprecationWarning: \u001b[1mAn import was requested from a module that has moved location.\n",
      "Import requested from: 'numba.decorators', please update to use 'numba.core.decorators' or pin to Numba version 0.48.0. This alias will not be present in Numba version 0.50.0.\u001b[0m\n",
      "  from numba.decorators import jit as optional_jit\n",
      "/Users/tessa/Library/Caches/pypoetry/virtualenvs/opensoundscape-dxMTH98s-py3.7/lib/python3.7/site-packages/librosa/util/decorators.py:9: NumbaDeprecationWarning: \u001b[1mAn import was requested from a module that has moved location.\n",
      "Import of 'jit' requested from: 'numba.decorators', please update to use 'numba.core.decorators' or pin to Numba version 0.48.0. This alias will not be present in Numba version 0.50.0.\u001b[0m\n",
      "  from numba.decorators import jit as optional_jit\n"
     ]
    }
   ],
   "source": [
    "from opensoundscape.datasets import SingleTargetAudioDataset\n",
    "from opensoundscape.torch.train import train"
   ]
  },
  {
   "cell_type": "code",
   "execution_count": 3,
   "metadata": {},
   "outputs": [],
   "source": [
    "from pathlib import Path\n",
    "from pandas import DataFrame\n",
    "from torchvision.models import resnet18\n",
    "from torch.nn import Linear, CrossEntropyLoss\n",
    "from torch.optim import SGD\n",
    "from math import floor\n",
    "from sklearn.utils import shuffle"
   ]
  },
  {
   "cell_type": "markdown",
   "metadata": {},
   "source": [
    "# Create a dataframe of `cardinalis-cardinalis` files"
   ]
  },
  {
   "cell_type": "code",
   "execution_count": 4,
   "metadata": {},
   "outputs": [],
   "source": [
    "files = list(Path(\"/Volumes/seagate-storage/audio/og_files_from_10spp/\").glob(\"**/*.mp3\"))\n",
    "labels = [file.parent.name for file in files]\n",
    "df = DataFrame({'Destination':files, \"label\":labels})\n",
    "df['NumericLabels'] = None\n",
    "df['NumericLabels'][df.label != 'cardinalis-cardinalis'] = 0\n",
    "df['NumericLabels'][df.label == 'cardinalis-cardinalis'] = 1"
   ]
  },
  {
   "cell_type": "code",
   "execution_count": 5,
   "metadata": {},
   "outputs": [],
   "source": [
    "# Use this to create numeric labels for single-class, single-target training\n",
    "labels_dict = {0:'cardinalis-cardinalis', 1:'other'}\n",
    "\n",
    "# Use this to create numeric labels for multi-class, single-target training\n",
    "#df.drop('filename', axis=1).drop_duplicates().values"
   ]
  },
  {
   "cell_type": "code",
   "execution_count": 6,
   "metadata": {},
   "outputs": [],
   "source": [
    "#train_set_size = floor(df.size * 0.8)\n",
    "train_set_size = 8\n",
    "val_set_size = 2\n",
    "df = shuffle(df).reset_index()\n",
    "train_df = df[:train_set_size]\n",
    "valid_df = df[train_set_size:train_set_size+val_set_size]"
   ]
  },
  {
   "cell_type": "markdown",
   "metadata": {},
   "source": [
    "# Create a training/validation dataset\n",
    "Note: this is without splitting"
   ]
  },
  {
   "cell_type": "code",
   "execution_count": 8,
   "metadata": {},
   "outputs": [],
   "source": [
    "%autoreload\n",
    "train_dataset = SingleTargetAudioDataset(\n",
    "    df = train_df,\n",
    "    label_column = 'NumericLabels',\n",
    "    filename_column='Destination',\n",
    "    add_noise = True, # Add noise/jitter to spectrogram\n",
    "    random_trim_length = 5, #Extract a 5s clip from long files\n",
    "    overlay_prob = 0.2,#with a 0.2 probability, overlay files from another class\n",
    "    overlay_weight=0.2,\n",
    ")\n",
    "valid_dataset = SingleTargetAudioDataset(\n",
    "    df = valid_df,\n",
    "    label_column = 'NumericLabels',\n",
    "    filename_column='Destination',\n",
    "    add_noise = True, # Add noise/jitter to spectrogram\n",
    "    random_trim_length = 5, #Extract a 5s clip from long files\n",
    "    overlay_prob = 0.2,#with a 0.2 probability, overlay files from another class\n",
    "    overlay_weight=0.2,\n",
    ")"
   ]
  },
  {
   "cell_type": "markdown",
   "metadata": {},
   "source": [
    "# Train the machine learning model"
   ]
  },
  {
   "cell_type": "code",
   "execution_count": 9,
   "metadata": {},
   "outputs": [],
   "source": [
    "# Set up architecture for the type of model we will use\n",
    "model = resnet18(pretrained = True)\n",
    "model.fc = Linear(model.fc.in_features, 2)"
   ]
  },
  {
   "cell_type": "code",
   "execution_count": 10,
   "metadata": {},
   "outputs": [],
   "source": [
    "save_path = Path('save_results')\n",
    "if not save_path.exists(): save_path.mkdir()\n",
    "out = train(\n",
    "    save_dir = save_path,\n",
    "    model = model,\n",
    "    train_dataset = train_dataset,\n",
    "    valid_dataset = valid_dataset,\n",
    "    optimizer = SGD(model.parameters(), lr=1e-3),\n",
    "    loss_fn = CrossEntropyLoss(),\n",
    "    epochs=1,\n",
    "    log_every=1,\n",
    "    spec_augment=True\n",
    ")"
   ]
  }
 ],
 "metadata": {
  "kernelspec": {
   "display_name": "OpenSoundscape",
   "language": "python",
   "name": "opensoundscape-dxmth98s-py3.7"
  },
  "language_info": {
   "codemirror_mode": {
    "name": "ipython",
    "version": 3
   },
   "file_extension": ".py",
   "mimetype": "text/x-python",
   "name": "python",
   "nbconvert_exporter": "python",
   "pygments_lexer": "ipython3",
   "version": "3.7.0"
  }
 },
 "nbformat": 4,
 "nbformat_minor": 4
}
